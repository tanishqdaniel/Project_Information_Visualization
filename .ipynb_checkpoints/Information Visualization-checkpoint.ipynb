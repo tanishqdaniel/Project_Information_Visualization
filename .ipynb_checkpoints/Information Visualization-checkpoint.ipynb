{
 "cells": [
  {
   "cell_type": "markdown",
   "id": "77901a6a0378c3f",
   "metadata": {},
   "source": [
    "# Information Visualization Project\n",
    "## Analyzing federal job postings in New York\n",
    "### Arnold Muiruri\n"
   ]
  },
  {
   "cell_type": "code",
   "execution_count": 34,
   "id": "cbf41ea994786aa3",
   "metadata": {
    "ExecuteTime": {
     "end_time": "2025-04-06T19:53:24.142672Z",
     "start_time": "2025-04-06T19:53:24.126741Z"
    }
   },
   "outputs": [],
   "source": [
    "## Importing the necessary libraries\n",
    "\n",
    "import polars as pl\n",
    "import requests\n",
    "import re\n",
    "from pyarrow.types import is_null"
   ]
  },
  {
   "cell_type": "code",
   "execution_count": 2,
   "id": "308570dfc76ae81",
   "metadata": {
    "ExecuteTime": {
     "end_time": "2025-04-06T19:37:15.224515Z",
     "start_time": "2025-04-06T19:37:13.991510Z"
    }
   },
   "outputs": [],
   "source": [
    "jobs_df = pl.read_csv(\"/Users/tanishq/Documents/STA631/Project_Information_Visualization/data/raw/Jobs_NYC_Postings.csv\")\n"
   ]
  },
  {
   "cell_type": "code",
   "execution_count": 3,
   "id": "88a0e5e7e059e453",
   "metadata": {
    "ExecuteTime": {
     "end_time": "2025-04-06T19:37:16.823731Z",
     "start_time": "2025-04-06T19:37:16.788519Z"
    }
   },
   "outputs": [
    {
     "data": {
      "text/html": [
       "<div><style>\n",
       ".dataframe > thead > tr,\n",
       ".dataframe > tbody > tr {\n",
       "  text-align: right;\n",
       "  white-space: pre-wrap;\n",
       "}\n",
       "</style>\n",
       "<small>shape: (5, 30)</small><table border=\"1\" class=\"dataframe\"><thead><tr><th>Job ID</th><th>Agency</th><th>Posting Type</th><th># Of Positions</th><th>Business Title</th><th>Civil Service Title</th><th>Title Classification</th><th>Title Code No</th><th>Level</th><th>Job Category</th><th>Full-Time/Part-Time indicator</th><th>Career Level</th><th>Salary Range From</th><th>Salary Range To</th><th>Salary Frequency</th><th>Work Location</th><th>Division/Work Unit</th><th>Job Description</th><th>Minimum Qual Requirements</th><th>Preferred Skills</th><th>Additional Information</th><th>To Apply</th><th>Hours/Shift</th><th>Work Location 1</th><th>Recruitment Contact</th><th>Residency Requirement</th><th>Posting Date</th><th>Post Until</th><th>Posting Updated</th><th>Process Date</th></tr><tr><td>i64</td><td>str</td><td>str</td><td>i64</td><td>str</td><td>str</td><td>str</td><td>str</td><td>str</td><td>str</td><td>str</td><td>str</td><td>f64</td><td>f64</td><td>str</td><td>str</td><td>str</td><td>str</td><td>str</td><td>str</td><td>str</td><td>str</td><td>str</td><td>str</td><td>str</td><td>str</td><td>str</td><td>str</td><td>str</td><td>str</td></tr></thead><tbody><tr><td>596449</td><td>&quot;DEPT OF ENVIRONMENT PROTECTION&quot;</td><td>&quot;External&quot;</td><td>1</td><td>&quot;ACCOUNTABLE MANAGER&quot;</td><td>&quot;ASSOCIATE PROJECT MANAGER&quot;</td><td>&quot;Competitive-1&quot;</td><td>&quot;22427&quot;</td><td>&quot;03&quot;</td><td>&quot;Engineering, Architecture, &amp; P…</td><td>&quot;F&quot;</td><td>&quot;Experienced (non-manager)&quot;</td><td>98470.0</td><td>133496.0</td><td>&quot;Annual&quot;</td><td>&quot;199 River Road North&quot;</td><td>&quot;UPSTATE CAPITAL CONSTR. - IFA&quot;</td><td>&quot;The NYC Department of Environm…</td><td>&quot;Qualification Requirements One…</td><td>&quot;â¢\tEngineering Design and Con…</td><td>null</td><td>&quot;To apply click Apply Now&nbsp;&nbsp;DEP …</td><td>null</td><td>&quot;Delaware Aqueduct Shaft 6 Fiel…</td><td>null</td><td>&quot;New York City Residency is not…</td><td>&quot;08/11/2023&quot;</td><td>null</td><td>&quot;08/11/2023&quot;</td><td>&quot;02/10/2025&quot;</td></tr><tr><td>632978</td><td>&quot;DEPT OF ENVIRONMENT PROTECTION&quot;</td><td>&quot;External&quot;</td><td>1</td><td>&quot;ACCOUNTABLE MANAGER&quot;</td><td>&quot;ASSOCIATE PROJECT MANAGER&quot;</td><td>&quot;Competitive-1&quot;</td><td>&quot;22427&quot;</td><td>&quot;01&quot;</td><td>&quot;Engineering, Architecture, &amp; P…</td><td>&quot;F&quot;</td><td>&quot;Experienced (non-manager)&quot;</td><td>74041.0</td><td>107227.0</td><td>&quot;Annual&quot;</td><td>&quot;199 River Road North&quot;</td><td>&quot;UPSTATE CAPITAL CONSTR. - IFA&quot;</td><td>&quot;The NYC Department of Environm…</td><td>&quot;One year of full-time satisfac…</td><td>null</td><td>null</td><td>null</td><td>null</td><td>null</td><td>null</td><td>&quot;New York City Residency is not…</td><td>&quot;04/29/2024&quot;</td><td>null</td><td>&quot;04/29/2024&quot;</td><td>&quot;02/10/2025&quot;</td></tr><tr><td>648277</td><td>&quot;DEPARTMENT OF TRANSPORTATION&quot;</td><td>&quot;Internal&quot;</td><td>1</td><td>&quot;Gardener&quot;</td><td>&quot;GARDENER&quot;</td><td>&quot;Competitive-1&quot;</td><td>&quot;81310&quot;</td><td>&quot;01&quot;</td><td>&quot;Health Building Operations &amp; M…</td><td>&quot;F&quot;</td><td>&quot;Experienced (non-manager)&quot;</td><td>48860.0</td><td>70321.0</td><td>&quot;Annual&quot;</td><td>&quot;78-88 Park Drive East QueensNY&quot;</td><td>&quot;ART (Kew Loop/Maint Landscape)&quot;</td><td>&quot;Under supervision, candidate w…</td><td>&quot;1. One year of full-time exper…</td><td>null</td><td>&quot;Preference will be given to th…</td><td>&quot;All resumes are to be submitte…</td><td>&quot;40 Hours Per Week&quot;</td><td>null</td><td>null</td><td>&quot;New York City residency is gen…</td><td>&quot;08/22/2024&quot;</td><td>null</td><td>&quot;08/22/2024&quot;</td><td>&quot;02/10/2025&quot;</td></tr><tr><td>679139</td><td>&quot;DEPT OF HEALTH/MENTAL HYGIENE&quot;</td><td>&quot;Internal&quot;</td><td>1</td><td>&quot;Child Care Registrar, Bureau o…</td><td>&quot;COMMUNITY ASSOCIATE&quot;</td><td>&quot;Non-Competitive-5&quot;</td><td>&quot;56057&quot;</td><td>&quot;00&quot;</td><td>&quot;Constituent Services &amp; Communi…</td><td>&quot;F&quot;</td><td>&quot;Experienced (non-manager)&quot;</td><td>43143.0</td><td>49615.0</td><td>&quot;Annual&quot;</td><td>&quot;NYC - All Boroughs&quot;</td><td>&quot;Child Care&quot;</td><td>&quot;PROGRAM AND JOB DESCRIPTION:&nbsp;&nbsp;…</td><td>&quot;Qualification Requirements&nbsp;&nbsp;1.…</td><td>null</td><td>null</td><td>null</td><td>null</td><td>null</td><td>null</td><td>&quot;New York City residency is gen…</td><td>&quot;09/16/2024&quot;</td><td>&quot;16-SEP-2025&quot;</td><td>&quot;09/16/2024&quot;</td><td>&quot;02/10/2025&quot;</td></tr><tr><td>644090</td><td>&quot;DEPT OF HEALTH/MENTAL HYGIENE&quot;</td><td>&quot;Internal&quot;</td><td>3</td><td>&quot;Call Agent&quot;</td><td>&quot;CUSTOMER INFORMATION REP&quot;</td><td>&quot;Competitive-1&quot;</td><td>&quot;60888&quot;</td><td>&quot;01&quot;</td><td>&quot;Communications &amp; Intergovernme…</td><td>&quot;F&quot;</td><td>&quot;Experienced (non-manager)&quot;</td><td>40882.0</td><td>51500.0</td><td>&quot;Annual&quot;</td><td>&quot;42-09 28th Street&quot;</td><td>&quot;Information Support Services&quot;</td><td>&quot;ONLY PERMANENT EMPLOYEES IN TH…</td><td>&quot;1. A baccalaureate degree from…</td><td>&quot;-Strong customer service orien…</td><td>null</td><td>null</td><td>null</td><td>null</td><td>null</td><td>&quot;New York City residency is gen…</td><td>&quot;01/22/2025&quot;</td><td>&quot;22-MAY-2025&quot;</td><td>&quot;01/22/2025&quot;</td><td>&quot;02/10/2025&quot;</td></tr></tbody></table></div>"
      ],
      "text/plain": [
       "shape: (5, 30)\n",
       "┌────────┬────────────┬────────────┬───────────┬───┬───────────┬───────────┬───────────┬───────────┐\n",
       "│ Job ID ┆ Agency     ┆ Posting    ┆ # Of      ┆ … ┆ Posting   ┆ Post      ┆ Posting   ┆ Process   │\n",
       "│ ---    ┆ ---        ┆ Type       ┆ Positions ┆   ┆ Date      ┆ Until     ┆ Updated   ┆ Date      │\n",
       "│ i64    ┆ str        ┆ ---        ┆ ---       ┆   ┆ ---       ┆ ---       ┆ ---       ┆ ---       │\n",
       "│        ┆            ┆ str        ┆ i64       ┆   ┆ str       ┆ str       ┆ str       ┆ str       │\n",
       "╞════════╪════════════╪════════════╪═══════════╪═══╪═══════════╪═══════════╪═══════════╪═══════════╡\n",
       "│ 596449 ┆ DEPT OF    ┆ External   ┆ 1         ┆ … ┆ 08/11/202 ┆ null      ┆ 08/11/202 ┆ 02/10/202 │\n",
       "│        ┆ ENVIRONMEN ┆            ┆           ┆   ┆ 3         ┆           ┆ 3         ┆ 5         │\n",
       "│        ┆ T          ┆            ┆           ┆   ┆           ┆           ┆           ┆           │\n",
       "│        ┆ PROTECTION ┆            ┆           ┆   ┆           ┆           ┆           ┆           │\n",
       "│ 632978 ┆ DEPT OF    ┆ External   ┆ 1         ┆ … ┆ 04/29/202 ┆ null      ┆ 04/29/202 ┆ 02/10/202 │\n",
       "│        ┆ ENVIRONMEN ┆            ┆           ┆   ┆ 4         ┆           ┆ 4         ┆ 5         │\n",
       "│        ┆ T          ┆            ┆           ┆   ┆           ┆           ┆           ┆           │\n",
       "│        ┆ PROTECTION ┆            ┆           ┆   ┆           ┆           ┆           ┆           │\n",
       "│ 648277 ┆ DEPARTMENT ┆ Internal   ┆ 1         ┆ … ┆ 08/22/202 ┆ null      ┆ 08/22/202 ┆ 02/10/202 │\n",
       "│        ┆ OF TRANSPO ┆            ┆           ┆   ┆ 4         ┆           ┆ 4         ┆ 5         │\n",
       "│        ┆ RTATION    ┆            ┆           ┆   ┆           ┆           ┆           ┆           │\n",
       "│ 679139 ┆ DEPT OF    ┆ Internal   ┆ 1         ┆ … ┆ 09/16/202 ┆ 16-SEP-20 ┆ 09/16/202 ┆ 02/10/202 │\n",
       "│        ┆ HEALTH/MEN ┆            ┆           ┆   ┆ 4         ┆ 25        ┆ 4         ┆ 5         │\n",
       "│        ┆ TAL        ┆            ┆           ┆   ┆           ┆           ┆           ┆           │\n",
       "│        ┆ HYGIENE    ┆            ┆           ┆   ┆           ┆           ┆           ┆           │\n",
       "│ 644090 ┆ DEPT OF    ┆ Internal   ┆ 3         ┆ … ┆ 01/22/202 ┆ 22-MAY-20 ┆ 01/22/202 ┆ 02/10/202 │\n",
       "│        ┆ HEALTH/MEN ┆            ┆           ┆   ┆ 5         ┆ 25        ┆ 5         ┆ 5         │\n",
       "│        ┆ TAL        ┆            ┆           ┆   ┆           ┆           ┆           ┆           │\n",
       "│        ┆ HYGIENE    ┆            ┆           ┆   ┆           ┆           ┆           ┆           │\n",
       "└────────┴────────────┴────────────┴───────────┴───┴───────────┴───────────┴───────────┴───────────┘"
      ]
     },
     "execution_count": 3,
     "metadata": {},
     "output_type": "execute_result"
    }
   ],
   "source": [
    "jobs_df.head()"
   ]
  },
  {
   "cell_type": "code",
   "execution_count": 4,
   "id": "337de00ff80835e0",
   "metadata": {
    "ExecuteTime": {
     "end_time": "2025-04-06T19:37:17.003242Z",
     "start_time": "2025-04-06T19:37:16.902456Z"
    }
   },
   "outputs": [
    {
     "data": {
      "text/html": [
       "<div><style>\n",
       ".dataframe > thead > tr,\n",
       ".dataframe > tbody > tr {\n",
       "  text-align: right;\n",
       "  white-space: pre-wrap;\n",
       "}\n",
       "</style>\n",
       "<small>shape: (5, 30)</small><table border=\"1\" class=\"dataframe\"><thead><tr><th>Job ID</th><th>Agency</th><th>Posting Type</th><th># Of Positions</th><th>Business Title</th><th>Civil Service Title</th><th>Title Classification</th><th>Title Code No</th><th>Level</th><th>Job Category</th><th>Full-Time/Part-Time indicator</th><th>Career Level</th><th>Salary Range From</th><th>Salary Range To</th><th>Salary Frequency</th><th>Work Location</th><th>Division/Work Unit</th><th>Job Description</th><th>Minimum Qual Requirements</th><th>Preferred Skills</th><th>Additional Information</th><th>To Apply</th><th>Hours/Shift</th><th>Work Location 1</th><th>Recruitment Contact</th><th>Residency Requirement</th><th>Posting Date</th><th>Post Until</th><th>Posting Updated</th><th>Process Date</th></tr><tr><td>i64</td><td>str</td><td>str</td><td>i64</td><td>str</td><td>str</td><td>str</td><td>str</td><td>str</td><td>str</td><td>str</td><td>str</td><td>f64</td><td>f64</td><td>str</td><td>str</td><td>str</td><td>str</td><td>str</td><td>str</td><td>str</td><td>str</td><td>str</td><td>str</td><td>str</td><td>str</td><td>str</td><td>str</td><td>str</td><td>str</td></tr></thead><tbody><tr><td>637724</td><td>&quot;DEPARTMENT OF TRANSPORTATION&quot;</td><td>&quot;External&quot;</td><td>1</td><td>&quot;Energy Project Manager&quot;</td><td>&quot;ASSISTANT ELECTRICAL ENGINEER&quot;</td><td>&quot;Competitive-1&quot;</td><td>&quot;20310&quot;</td><td>&quot;00&quot;</td><td>&quot;Engineering, Architecture, &amp; P…</td><td>&quot;F&quot;</td><td>&quot;Experienced (non-manager)&quot;</td><td>62370.0</td><td>71726.0</td><td>&quot;Annual&quot;</td><td>&quot;55 Water St Ny Ny&quot;</td><td>&quot;Facilities Management&quot;</td><td>&quot;***IN ORDER TO BE CONSIDERED F…</td><td>&quot;1. A baccalaureate degree in e…</td><td>&quot;The ideal candidate will combi…</td><td>null</td><td>&quot;To Apply All resumes are to be…</td><td>null</td><td>null</td><td>null</td><td>&quot;New York City Residency is not…</td><td>&quot;10/25/2024&quot;</td><td>null</td><td>&quot;10/25/2024&quot;</td><td>&quot;02/10/2025&quot;</td></tr><tr><td>579982</td><td>&quot;DEPT OF ENVIRONMENT PROTECTION&quot;</td><td>&quot;External&quot;</td><td>8</td><td>&quot;Civil Engineering Intern&quot;</td><td>&quot;CIVIL ENGINEERING INTERN&quot;</td><td>&quot;Competitive-1&quot;</td><td>&quot;20202&quot;</td><td>&quot;00&quot;</td><td>&quot;Engineering, Architecture, &amp; P…</td><td>&quot;F&quot;</td><td>&quot;Entry-Level&quot;</td><td>51413.0</td><td>59125.0</td><td>&quot;Annual&quot;</td><td>&quot;356 Flushing Ave, Brooklyn&quot;</td><td>&quot;SHAFT MAINTENANCE&quot;</td><td>&quot;The NYC Department of Environm…</td><td>&quot;1. A baccalaureate degree in c…</td><td>&quot;1. NYS Driverâs License or a…</td><td>&quot;Civil Engineering Interns perf…</td><td>&quot;Click the Apply Now button&quot;</td><td>null</td><td>null</td><td>null</td><td>&quot;New York City Residency is not…</td><td>&quot;03/24/2023&quot;</td><td>null</td><td>&quot;06/30/2023&quot;</td><td>&quot;02/10/2025&quot;</td></tr><tr><td>620082</td><td>&quot;DEPT OF HEALTH/MENTAL HYGIENE&quot;</td><td>&quot;Internal&quot;</td><td>1</td><td>&quot;Program Specialist, Treatment …</td><td>&quot;SPEC CONSULTANT (MHSS) (AL 2)&quot;</td><td>&quot;Competitive-1&quot;</td><td>&quot;5100C&quot;</td><td>&quot;02&quot;</td><td>&quot;Constituent Services &amp; Communi…</td><td>&quot;F&quot;</td><td>&quot;Experienced (non-manager)&quot;</td><td>77998.0</td><td>92389.0</td><td>&quot;Annual&quot;</td><td>&quot;42-09 28th Street&quot;</td><td>&quot;Mental Health&quot;</td><td>&quot;ONLY PERMANENT EMPLOYEES IN TH…</td><td>&quot;A baccalaureate degree from an…</td><td>&quot;- The ideal candidate will pos…</td><td>&quot;**IMPORTANT NOTES TO ALL CANDI…</td><td>&quot;Apply online with a cover lett…</td><td>null</td><td>null</td><td>null</td><td>&quot;New York City residency is gen…</td><td>&quot;02/05/2025&quot;</td><td>&quot;06-APR-2025&quot;</td><td>&quot;02/05/2025&quot;</td><td>&quot;02/10/2025&quot;</td></tr><tr><td>680907</td><td>&quot;DEPARTMENT OF TRANSPORTATION&quot;</td><td>&quot;Internal&quot;</td><td>1</td><td>&quot;Economic Analyst&quot;</td><td>&quot;CITY RESEARCH SCIENTIST&quot;</td><td>&quot;Non-Competitive-5&quot;</td><td>&quot;21744&quot;</td><td>&quot;02&quot;</td><td>&quot;Policy, Research &amp; Analysis&quot;</td><td>&quot;F&quot;</td><td>&quot;Experienced (non-manager)&quot;</td><td>84981.0</td><td>106654.0</td><td>&quot;Annual&quot;</td><td>&quot;55 Water St Ny Ny&quot;</td><td>&quot;Policy&quot;</td><td>&quot;The New York City Department o…</td><td>&quot;1.&nbsp;&nbsp;For Assignment Level I (on…</td><td>&quot;The preferred candidate is a w…</td><td>null</td><td>&quot;All resumes are to be submitte…</td><td>&quot;35 hours per week&quot;</td><td>&quot;55 Water Street, 9th Floor, Ne…</td><td>null</td><td>&quot;New York City residency is gen…</td><td>&quot;10/16/2024&quot;</td><td>null</td><td>&quot;12/18/2024&quot;</td><td>&quot;02/10/2025&quot;</td></tr><tr><td>647715</td><td>&quot;DEPT OF CITYWIDE ADMIN SVCS&quot;</td><td>&quot;External&quot;</td><td>1</td><td>&quot;Furniture Coordinator&quot;</td><td>&quot;ADMINISTRATIVE SPACE ANALYST (&quot;</td><td>&quot;Competitive-1&quot;</td><td>&quot;1003D&quot;</td><td>&quot;00&quot;</td><td>&quot;Engineering, Architecture, &amp; P…</td><td>&quot;F&quot;</td><td>&quot;Experienced (non-manager)&quot;</td><td>64142.0</td><td>93073.0</td><td>&quot;Annual&quot;</td><td>&quot;1 Centre St., N.Y.&quot;</td><td>&quot;Res/Design &amp; Proj Mgmt&quot;</td><td>&quot;DCAS&#x27;s mission is to make city…</td><td>&quot;1. A baccalaureate degree from…</td><td>&quot;â¢ Bachelor degree in Interio…</td><td>null</td><td>&quot;Please go to www.nyc.gov/jobs …</td><td>null</td><td>null</td><td>null</td><td>&quot;New York City residency is gen…</td><td>&quot;01/23/2025&quot;</td><td>&quot;24-MAR-2025&quot;</td><td>&quot;01/23/2025&quot;</td><td>&quot;02/10/2025&quot;</td></tr></tbody></table></div>"
      ],
      "text/plain": [
       "shape: (5, 30)\n",
       "┌────────┬────────────┬────────────┬───────────┬───┬───────────┬───────────┬───────────┬───────────┐\n",
       "│ Job ID ┆ Agency     ┆ Posting    ┆ # Of      ┆ … ┆ Posting   ┆ Post      ┆ Posting   ┆ Process   │\n",
       "│ ---    ┆ ---        ┆ Type       ┆ Positions ┆   ┆ Date      ┆ Until     ┆ Updated   ┆ Date      │\n",
       "│ i64    ┆ str        ┆ ---        ┆ ---       ┆   ┆ ---       ┆ ---       ┆ ---       ┆ ---       │\n",
       "│        ┆            ┆ str        ┆ i64       ┆   ┆ str       ┆ str       ┆ str       ┆ str       │\n",
       "╞════════╪════════════╪════════════╪═══════════╪═══╪═══════════╪═══════════╪═══════════╪═══════════╡\n",
       "│ 637724 ┆ DEPARTMENT ┆ External   ┆ 1         ┆ … ┆ 10/25/202 ┆ null      ┆ 10/25/202 ┆ 02/10/202 │\n",
       "│        ┆ OF TRANSPO ┆            ┆           ┆   ┆ 4         ┆           ┆ 4         ┆ 5         │\n",
       "│        ┆ RTATION    ┆            ┆           ┆   ┆           ┆           ┆           ┆           │\n",
       "│ 579982 ┆ DEPT OF    ┆ External   ┆ 8         ┆ … ┆ 03/24/202 ┆ null      ┆ 06/30/202 ┆ 02/10/202 │\n",
       "│        ┆ ENVIRONMEN ┆            ┆           ┆   ┆ 3         ┆           ┆ 3         ┆ 5         │\n",
       "│        ┆ T          ┆            ┆           ┆   ┆           ┆           ┆           ┆           │\n",
       "│        ┆ PROTECTION ┆            ┆           ┆   ┆           ┆           ┆           ┆           │\n",
       "│ 620082 ┆ DEPT OF    ┆ Internal   ┆ 1         ┆ … ┆ 02/05/202 ┆ 06-APR-20 ┆ 02/05/202 ┆ 02/10/202 │\n",
       "│        ┆ HEALTH/MEN ┆            ┆           ┆   ┆ 5         ┆ 25        ┆ 5         ┆ 5         │\n",
       "│        ┆ TAL        ┆            ┆           ┆   ┆           ┆           ┆           ┆           │\n",
       "│        ┆ HYGIENE    ┆            ┆           ┆   ┆           ┆           ┆           ┆           │\n",
       "│ 680907 ┆ DEPARTMENT ┆ Internal   ┆ 1         ┆ … ┆ 10/16/202 ┆ null      ┆ 12/18/202 ┆ 02/10/202 │\n",
       "│        ┆ OF TRANSPO ┆            ┆           ┆   ┆ 4         ┆           ┆ 4         ┆ 5         │\n",
       "│        ┆ RTATION    ┆            ┆           ┆   ┆           ┆           ┆           ┆           │\n",
       "│ 647715 ┆ DEPT OF    ┆ External   ┆ 1         ┆ … ┆ 01/23/202 ┆ 24-MAR-20 ┆ 01/23/202 ┆ 02/10/202 │\n",
       "│        ┆ CITYWIDE   ┆            ┆           ┆   ┆ 5         ┆ 25        ┆ 5         ┆ 5         │\n",
       "│        ┆ ADMIN SVCS ┆            ┆           ┆   ┆           ┆           ┆           ┆           │\n",
       "└────────┴────────────┴────────────┴───────────┴───┴───────────┴───────────┴───────────┴───────────┘"
      ]
     },
     "execution_count": 4,
     "metadata": {},
     "output_type": "execute_result"
    }
   ],
   "source": [
    "jobs_df.tail()"
   ]
  },
  {
   "cell_type": "code",
   "execution_count": 5,
   "id": "7de86f0be33ea500",
   "metadata": {
    "ExecuteTime": {
     "end_time": "2025-04-06T19:37:17.304388Z",
     "start_time": "2025-04-06T19:37:17.042700Z"
    }
   },
   "outputs": [
    {
     "data": {
      "text/html": [
       "<div><style>\n",
       ".dataframe > thead > tr,\n",
       ".dataframe > tbody > tr {\n",
       "  text-align: right;\n",
       "  white-space: pre-wrap;\n",
       "}\n",
       "</style>\n",
       "<small>shape: (9, 31)</small><table border=\"1\" class=\"dataframe\"><thead><tr><th>statistic</th><th>Job ID</th><th>Agency</th><th>Posting Type</th><th># Of Positions</th><th>Business Title</th><th>Civil Service Title</th><th>Title Classification</th><th>Title Code No</th><th>Level</th><th>Job Category</th><th>Full-Time/Part-Time indicator</th><th>Career Level</th><th>Salary Range From</th><th>Salary Range To</th><th>Salary Frequency</th><th>Work Location</th><th>Division/Work Unit</th><th>Job Description</th><th>Minimum Qual Requirements</th><th>Preferred Skills</th><th>Additional Information</th><th>To Apply</th><th>Hours/Shift</th><th>Work Location 1</th><th>Recruitment Contact</th><th>Residency Requirement</th><th>Posting Date</th><th>Post Until</th><th>Posting Updated</th><th>Process Date</th></tr><tr><td>str</td><td>f64</td><td>str</td><td>str</td><td>f64</td><td>str</td><td>str</td><td>str</td><td>str</td><td>str</td><td>str</td><td>str</td><td>str</td><td>f64</td><td>f64</td><td>str</td><td>str</td><td>str</td><td>str</td><td>str</td><td>str</td><td>str</td><td>str</td><td>str</td><td>str</td><td>str</td><td>str</td><td>str</td><td>str</td><td>str</td><td>str</td></tr></thead><tbody><tr><td>&quot;count&quot;</td><td>6157.0</td><td>&quot;6157&quot;</td><td>&quot;6157&quot;</td><td>6157.0</td><td>&quot;6157&quot;</td><td>&quot;6157&quot;</td><td>&quot;6157&quot;</td><td>&quot;6157&quot;</td><td>&quot;6157&quot;</td><td>&quot;6157&quot;</td><td>&quot;6157&quot;</td><td>&quot;6157&quot;</td><td>6157.0</td><td>6157.0</td><td>&quot;6157&quot;</td><td>&quot;6157&quot;</td><td>&quot;6157&quot;</td><td>&quot;6157&quot;</td><td>&quot;6085&quot;</td><td>&quot;3742&quot;</td><td>&quot;2831&quot;</td><td>&quot;3775&quot;</td><td>&quot;1472&quot;</td><td>&quot;1803&quot;</td><td>&quot;0&quot;</td><td>&quot;6157&quot;</td><td>&quot;6157&quot;</td><td>&quot;2092&quot;</td><td>&quot;6157&quot;</td><td>&quot;6157&quot;</td></tr><tr><td>&quot;null_count&quot;</td><td>0.0</td><td>&quot;0&quot;</td><td>&quot;0&quot;</td><td>0.0</td><td>&quot;0&quot;</td><td>&quot;0&quot;</td><td>&quot;0&quot;</td><td>&quot;0&quot;</td><td>&quot;0&quot;</td><td>&quot;0&quot;</td><td>&quot;0&quot;</td><td>&quot;0&quot;</td><td>0.0</td><td>0.0</td><td>&quot;0&quot;</td><td>&quot;0&quot;</td><td>&quot;0&quot;</td><td>&quot;0&quot;</td><td>&quot;72&quot;</td><td>&quot;2415&quot;</td><td>&quot;3326&quot;</td><td>&quot;2382&quot;</td><td>&quot;4685&quot;</td><td>&quot;4354&quot;</td><td>&quot;6157&quot;</td><td>&quot;0&quot;</td><td>&quot;0&quot;</td><td>&quot;4065&quot;</td><td>&quot;0&quot;</td><td>&quot;0&quot;</td></tr><tr><td>&quot;mean&quot;</td><td>652217.196037</td><td>null</td><td>null</td><td>2.36154</td><td>null</td><td>null</td><td>null</td><td>null</td><td>null</td><td>null</td><td>null</td><td>null</td><td>65726.628327</td><td>90887.206191</td><td>null</td><td>null</td><td>null</td><td>null</td><td>null</td><td>null</td><td>null</td><td>null</td><td>null</td><td>null</td><td>null</td><td>null</td><td>null</td><td>null</td><td>null</td><td>null</td></tr><tr><td>&quot;std&quot;</td><td>47439.588336</td><td>null</td><td>null</td><td>8.757316</td><td>null</td><td>null</td><td>null</td><td>null</td><td>null</td><td>null</td><td>null</td><td>null</td><td>32834.798921</td><td>50513.139719</td><td>null</td><td>null</td><td>null</td><td>null</td><td>null</td><td>null</td><td>null</td><td>null</td><td>null</td><td>null</td><td>null</td><td>null</td><td>null</td><td>null</td><td>null</td><td>null</td></tr><tr><td>&quot;min&quot;</td><td>469953.0</td><td>&quot;ADMIN FOR CHILDREN&#x27;S SVCS&quot;</td><td>&quot;External&quot;</td><td>1.0</td><td>&quot;.NET Developer,&nbsp;&nbsp;Bureau of App…</td><td>&quot;ACCOUNTANT&quot;</td><td>&quot;Competitive-1&quot;</td><td>&quot;03647&quot;</td><td>&quot;00&quot;</td><td>&quot;Administration &amp; Human Resourc…</td><td>&quot;F&quot;</td><td>&quot;Entry-Level&quot;</td><td>0.0</td><td>15.45</td><td>&quot;Annual&quot;</td><td>&quot;1 Battery Park Plaza&quot;</td><td>&quot;44th Precinct - Civilian/Cadet&quot;</td><td>&quot;* IMPORTANT NOTE** Only those …</td><td>&quot;(1) A baccalaureate degree fro…</td><td>&quot;* Knowledge and experience wor…</td><td>&quot;#: O-19&quot;</td><td>&quot;* Interested applicants with o…</td><td>&quot;0700X1500 - RDO SATURDAY/SUNDA…</td><td>&quot;(Bronx)- 2500 Halsey St (Brook…</td><td>null</td><td>&quot;*New York City residency is re…</td><td>&quot;01/01/2025&quot;</td><td>&quot;01-APR-2025&quot;</td><td>&quot;01/02/2024&quot;</td><td>&quot;02/10/2025&quot;</td></tr><tr><td>&quot;25%&quot;</td><td>629394.0</td><td>null</td><td>null</td><td>1.0</td><td>null</td><td>null</td><td>null</td><td>null</td><td>null</td><td>null</td><td>null</td><td>null</td><td>53370.0</td><td>64760.0</td><td>null</td><td>null</td><td>null</td><td>null</td><td>null</td><td>null</td><td>null</td><td>null</td><td>null</td><td>null</td><td>null</td><td>null</td><td>null</td><td>null</td><td>null</td><td>null</td></tr><tr><td>&quot;50%&quot;</td><td>657395.0</td><td>null</td><td>null</td><td>1.0</td><td>null</td><td>null</td><td>null</td><td>null</td><td>null</td><td>null</td><td>null</td><td>null</td><td>64242.0</td><td>86804.0</td><td>null</td><td>null</td><td>null</td><td>null</td><td>null</td><td>null</td><td>null</td><td>null</td><td>null</td><td>null</td><td>null</td><td>null</td><td>null</td><td>null</td><td>null</td><td>null</td></tr><tr><td>&quot;75%&quot;</td><td>692867.0</td><td>null</td><td>null</td><td>1.0</td><td>null</td><td>null</td><td>null</td><td>null</td><td>null</td><td>null</td><td>null</td><td>null</td><td>81083.0</td><td>115000.0</td><td>null</td><td>null</td><td>null</td><td>null</td><td>null</td><td>null</td><td>null</td><td>null</td><td>null</td><td>null</td><td>null</td><td>null</td><td>null</td><td>null</td><td>null</td><td>null</td></tr><tr><td>&quot;max&quot;</td><td>702077.0</td><td>&quot;TECHNOLOGY &amp; INNOVATION&quot;</td><td>&quot;Internal&quot;</td><td>243.0</td><td>&quot;Zoning Team Leader&quot;</td><td>&quot;YOUTH DEVELOPMENT SPECIALIST&quot;</td><td>&quot;Pending Classification-2&quot;</td><td>&quot;95917&quot;</td><td>&quot;MY&quot;</td><td>&quot;Technology, Data &amp; Innovation …</td><td>&quot;P&quot;</td><td>&quot;Student&quot;</td><td>275000.0</td><td>283000.0</td><td>&quot;Hourly&quot;</td><td>&quot;Whitman Houses&quot;</td><td>&quot;off of Veter Public Health S&quot;</td><td>&quot;â¢tMPORTANT NOTE: Only those …</td><td>&quot;â¢ A graduate degree from an …</td><td>&quot;â¢Proven track record of proj…</td><td>&quot;â¢ ONLY OPEN TO CITY EMPLOYEE…</td><td>&quot;â¢\tLitigation experience;&nbsp;&nbsp;â…</td><td>&quot;â¢&nbsp;&nbsp;Due to the necessary tech…</td><td>&quot;various&quot;</td><td>null</td><td>&quot;â¢\tCity Residency is not requ…</td><td>&quot;12/31/2024&quot;</td><td>&quot;31-OCT-2025&quot;</td><td>&quot;12/31/2024&quot;</td><td>&quot;02/10/2025&quot;</td></tr></tbody></table></div>"
      ],
      "text/plain": [
       "shape: (9, 31)\n",
       "┌───────────┬───────────┬───────────┬───────────┬───┬───────────┬───────────┬───────────┬──────────┐\n",
       "│ statistic ┆ Job ID    ┆ Agency    ┆ Posting   ┆ … ┆ Posting   ┆ Post      ┆ Posting   ┆ Process  │\n",
       "│ ---       ┆ ---       ┆ ---       ┆ Type      ┆   ┆ Date      ┆ Until     ┆ Updated   ┆ Date     │\n",
       "│ str       ┆ f64       ┆ str       ┆ ---       ┆   ┆ ---       ┆ ---       ┆ ---       ┆ ---      │\n",
       "│           ┆           ┆           ┆ str       ┆   ┆ str       ┆ str       ┆ str       ┆ str      │\n",
       "╞═══════════╪═══════════╪═══════════╪═══════════╪═══╪═══════════╪═══════════╪═══════════╪══════════╡\n",
       "│ count     ┆ 6157.0    ┆ 6157      ┆ 6157      ┆ … ┆ 6157      ┆ 2092      ┆ 6157      ┆ 6157     │\n",
       "│ null_coun ┆ 0.0       ┆ 0         ┆ 0         ┆ … ┆ 0         ┆ 4065      ┆ 0         ┆ 0        │\n",
       "│ t         ┆           ┆           ┆           ┆   ┆           ┆           ┆           ┆          │\n",
       "│ mean      ┆ 652217.19 ┆ null      ┆ null      ┆ … ┆ null      ┆ null      ┆ null      ┆ null     │\n",
       "│           ┆ 6037      ┆           ┆           ┆   ┆           ┆           ┆           ┆          │\n",
       "│ std       ┆ 47439.588 ┆ null      ┆ null      ┆ … ┆ null      ┆ null      ┆ null      ┆ null     │\n",
       "│           ┆ 336       ┆           ┆           ┆   ┆           ┆           ┆           ┆          │\n",
       "│ min       ┆ 469953.0  ┆ ADMIN FOR ┆ External  ┆ … ┆ 01/01/202 ┆ 01-APR-20 ┆ 01/02/202 ┆ 02/10/20 │\n",
       "│           ┆           ┆ CHILDREN' ┆           ┆   ┆ 5         ┆ 25        ┆ 4         ┆ 25       │\n",
       "│           ┆           ┆ S SVCS    ┆           ┆   ┆           ┆           ┆           ┆          │\n",
       "│ 25%       ┆ 629394.0  ┆ null      ┆ null      ┆ … ┆ null      ┆ null      ┆ null      ┆ null     │\n",
       "│ 50%       ┆ 657395.0  ┆ null      ┆ null      ┆ … ┆ null      ┆ null      ┆ null      ┆ null     │\n",
       "│ 75%       ┆ 692867.0  ┆ null      ┆ null      ┆ … ┆ null      ┆ null      ┆ null      ┆ null     │\n",
       "│ max       ┆ 702077.0  ┆ TECHNOLOG ┆ Internal  ┆ … ┆ 12/31/202 ┆ 31-OCT-20 ┆ 12/31/202 ┆ 02/10/20 │\n",
       "│           ┆           ┆ Y & INNOV ┆           ┆   ┆ 4         ┆ 25        ┆ 4         ┆ 25       │\n",
       "│           ┆           ┆ ATION     ┆           ┆   ┆           ┆           ┆           ┆          │\n",
       "└───────────┴───────────┴───────────┴───────────┴───┴───────────┴───────────┴───────────┴──────────┘"
      ]
     },
     "execution_count": 5,
     "metadata": {},
     "output_type": "execute_result"
    }
   ],
   "source": [
    "## Checking the summaries of the data\n",
    "\n",
    "jobs_df.describe()\n"
   ]
  },
  {
   "cell_type": "code",
   "execution_count": 6,
   "id": "7daa1e150b21dbe3",
   "metadata": {
    "ExecuteTime": {
     "end_time": "2025-04-06T19:37:18.167314Z",
     "start_time": "2025-04-06T19:37:17.966257Z"
    }
   },
   "outputs": [
    {
     "data": {
      "text/html": [
       "<div><style>\n",
       ".dataframe > thead > tr,\n",
       ".dataframe > tbody > tr {\n",
       "  text-align: right;\n",
       "  white-space: pre-wrap;\n",
       "}\n",
       "</style>\n",
       "<small>shape: (30, 2)</small><table border=\"1\" class=\"dataframe\"><thead><tr><th>column</th><th>unique_values</th></tr><tr><td>str</td><td>i64</td></tr></thead><tbody><tr><td>&quot;Job ID&quot;</td><td>3130</td></tr><tr><td>&quot;Agency&quot;</td><td>65</td></tr><tr><td>&quot;Posting Type&quot;</td><td>2</td></tr><tr><td>&quot;# Of Positions&quot;</td><td>34</td></tr><tr><td>&quot;Business Title&quot;</td><td>2089</td></tr><tr><td>&hellip;</td><td>&hellip;</td></tr><tr><td>&quot;Residency Requirement&quot;</td><td>72</td></tr><tr><td>&quot;Posting Date&quot;</td><td>547</td></tr><tr><td>&quot;Post Until&quot;</td><td>241</td></tr><tr><td>&quot;Posting Updated&quot;</td><td>512</td></tr><tr><td>&quot;Process Date&quot;</td><td>1</td></tr></tbody></table></div>"
      ],
      "text/plain": [
       "shape: (30, 2)\n",
       "┌───────────────────────┬───────────────┐\n",
       "│ column                ┆ unique_values │\n",
       "│ ---                   ┆ ---           │\n",
       "│ str                   ┆ i64           │\n",
       "╞═══════════════════════╪═══════════════╡\n",
       "│ Job ID                ┆ 3130          │\n",
       "│ Agency                ┆ 65            │\n",
       "│ Posting Type          ┆ 2             │\n",
       "│ # Of Positions        ┆ 34            │\n",
       "│ Business Title        ┆ 2089          │\n",
       "│ …                     ┆ …             │\n",
       "│ Residency Requirement ┆ 72            │\n",
       "│ Posting Date          ┆ 547           │\n",
       "│ Post Until            ┆ 241           │\n",
       "│ Posting Updated       ┆ 512           │\n",
       "│ Process Date          ┆ 1             │\n",
       "└───────────────────────┴───────────────┘"
      ]
     },
     "execution_count": 6,
     "metadata": {},
     "output_type": "execute_result"
    }
   ],
   "source": [
    "## Checking the unique values per row\n",
    "\n",
    "count_unique_rows  = {}\n",
    "\n",
    "\n",
    "for column in jobs_df.columns:\n",
    "    count_unique_rows[column] = jobs_df[column].n_unique()\n",
    "\n",
    "count_unique_df = pl.DataFrame({\"column\":count_unique_rows.keys(), \"unique_values\":count_unique_rows.values()})\n",
    "count_unique_df"
   ]
  },
  {
   "cell_type": "code",
   "execution_count": 7,
   "id": "ad87a12fe4f9633b",
   "metadata": {
    "ExecuteTime": {
     "end_time": "2025-04-06T19:37:19.584809Z",
     "start_time": "2025-04-06T19:37:18.504824Z"
    }
   },
   "outputs": [],
   "source": [
    "jobs_cleaned = (\n",
    "    jobs_df\n",
    "    .unique()\n",
    "    .group_by(\"Job ID\")\n",
    "    .agg([\n",
    "        pl.exclude([\"Posting Date\", \"Posting Type\"]).first(),\n",
    "        pl.col(\"Posting Date\").min(),\n",
    "        pl.col(\"Posting Type\").unique().alias(\"Posting Type\")\n",
    "    ])\n",
    "    .with_columns([\n",
    "        # Handle Posting Type transformation\n",
    "        pl.when(\n",
    "            pl.col(\"Posting Type\").list.contains(\"Internal\") &\n",
    "            pl.col(\"Posting Type\").list.contains(\"External\")\n",
    "        )\n",
    "        .then(pl.lit([\"Internal/External\"]))\n",
    "        .otherwise(pl.col(\"Posting Type\"))\n",
    "        .alias(\"Posting Type\"),\n",
    "\n",
    "        # Salary Range From transformation\n",
    "        pl.when(pl.col(\"Salary Frequency\").str.contains(\"Hourly\"))\n",
    "        .then(pl.col(\"Salary Range From\") * 52 * 40)\n",
    "        .otherwise(pl.col(\"Salary Range From\"))\n",
    "        .alias(\"Salary Range From\"),\n",
    "\n",
    "        # Salary Range To transformation\n",
    "        pl.when(pl.col(\"Salary Frequency\").str.contains(\"Hourly\"))\n",
    "        .then(pl.col(\"Salary Range To\") * 52 * 40)\n",
    "        .otherwise(pl.col(\"Salary Range To\"))\n",
    "        .alias(\"Salary Range To\"),\n",
    "\n",
    "        # Salary Frequency transformation\n",
    "        pl.when(pl.col(\"Salary Frequency\").str.contains(\"Hourly\"))\n",
    "        .then(pl.lit(\"Annual\"))\n",
    "        .otherwise(pl.col(\"Salary Frequency\"))\n",
    "        .alias(\"Salary Frequency\")\n",
    "    ])\n",
    "    .explode(\"Posting Type\")\n",
    "    .sort(\"Posting Date\")\n",
    ")"
   ]
  },
  {
   "cell_type": "code",
   "execution_count": 8,
   "id": "c6bafbaa3af1fc0a",
   "metadata": {
    "ExecuteTime": {
     "end_time": "2025-04-06T19:37:20.531314Z",
     "start_time": "2025-04-06T19:37:20.443406Z"
    }
   },
   "outputs": [
    {
     "data": {
      "text/html": [
       "<div><style>\n",
       ".dataframe > thead > tr,\n",
       ".dataframe > tbody > tr {\n",
       "  text-align: right;\n",
       "  white-space: pre-wrap;\n",
       "}\n",
       "</style>\n",
       "<small>shape: (5, 30)</small><table border=\"1\" class=\"dataframe\"><thead><tr><th>Job ID</th><th>Agency</th><th># Of Positions</th><th>Business Title</th><th>Civil Service Title</th><th>Title Classification</th><th>Title Code No</th><th>Level</th><th>Job Category</th><th>Full-Time/Part-Time indicator</th><th>Career Level</th><th>Salary Range From</th><th>Salary Range To</th><th>Salary Frequency</th><th>Work Location</th><th>Division/Work Unit</th><th>Job Description</th><th>Minimum Qual Requirements</th><th>Preferred Skills</th><th>Additional Information</th><th>To Apply</th><th>Hours/Shift</th><th>Work Location 1</th><th>Recruitment Contact</th><th>Residency Requirement</th><th>Post Until</th><th>Posting Updated</th><th>Process Date</th><th>Posting Date</th><th>Posting Type</th></tr><tr><td>i64</td><td>str</td><td>i64</td><td>str</td><td>str</td><td>str</td><td>str</td><td>str</td><td>str</td><td>str</td><td>str</td><td>f64</td><td>f64</td><td>str</td><td>str</td><td>str</td><td>str</td><td>str</td><td>str</td><td>str</td><td>str</td><td>str</td><td>str</td><td>str</td><td>str</td><td>str</td><td>str</td><td>str</td><td>str</td><td>str</td></tr></thead><tbody><tr><td>695632</td><td>&quot;DEPARTMENT OF TRANSPORTATION&quot;</td><td>1</td><td>&quot;Energy Analyst&quot;</td><td>&quot;STAFF ANALYST&quot;</td><td>&quot;Competitive-1&quot;</td><td>&quot;12626&quot;</td><td>&quot;02&quot;</td><td>&quot;Administration &amp; Human Resourc…</td><td>&quot;F&quot;</td><td>&quot;Entry-Level&quot;</td><td>70310.0</td><td>90049.0</td><td>&quot;Annual&quot;</td><td>&quot;55 Water St Ny Ny&quot;</td><td>&quot;Facilities Management&quot;</td><td>&quot;***IN ORDER TO BE CONSIDERED F…</td><td>&quot;A master&#x27;s degree from an accr…</td><td>null</td><td>null</td><td>&quot;***IN ORDER TO BE CONSIDERED F…</td><td>null</td><td>null</td><td>null</td><td>&quot;New York City residency is gen…</td><td>null</td><td>&quot;01/17/2025&quot;</td><td>&quot;02/10/2025&quot;</td><td>&quot;01/01/2025&quot;</td><td>&quot;Internal/External&quot;</td></tr><tr><td>615441</td><td>&quot;DEPT OF ENVIRONMENT PROTECTION&quot;</td><td>1</td><td>&quot;ACCOUNTABLE MANAGER&quot;</td><td>&quot;ADMINISTRATIVE CONSTRUCTION PR&quot;</td><td>&quot;Competitive-1&quot;</td><td>&quot;82991&quot;</td><td>&quot;M2&quot;</td><td>&quot;Engineering, Architecture, &amp; P…</td><td>&quot;F&quot;</td><td>&quot;Manager&quot;</td><td>64922.0</td><td>173486.0</td><td>&quot;Annual&quot;</td><td>&quot;2398 State Rt 28A, Olive Bridg&quot;</td><td>&quot;UPSTATE CAPITAL CONSTR. - IFA&quot;</td><td>&quot;The NYC Department of Environm…</td><td>&quot;At least six years of full-tim…</td><td>&quot;â¢\tExcellent oral and written…</td><td>null</td><td>&quot;To apply click Apply Now&nbsp;&nbsp;DEP …</td><td>null</td><td>null</td><td>null</td><td>&quot;New York City Residency is not…</td><td>null</td><td>&quot;01/02/2024&quot;</td><td>&quot;02/10/2025&quot;</td><td>&quot;01/02/2024&quot;</td><td>&quot;Internal/External&quot;</td></tr><tr><td>619255</td><td>&quot;DEPT OF ENVIRONMENT PROTECTION&quot;</td><td>1</td><td>&quot;Chief Inspector&quot;</td><td>&quot;ASSOCIATE WATER USE INSPECTOR&quot;</td><td>&quot;Competitive-1&quot;</td><td>&quot;34620&quot;</td><td>&quot;03&quot;</td><td>&quot;Public Safety, Inspections, &amp; …</td><td>&quot;F&quot;</td><td>&quot;Experienced (non-manager)&quot;</td><td>69435.0</td><td>87548.0</td><td>&quot;Annual&quot;</td><td>&quot;233 Schermerhorn Street, Bklyn&quot;</td><td>&quot;BROOKLYN INSPECTION&quot;</td><td>&quot;The NYC Department of Environm…</td><td>&quot;1. Three years of satisfactory…</td><td>null</td><td>&quot;Appointments are subject to OM…</td><td>&quot;To apply click the âApply No…</td><td>&quot;35 hour week.&quot;</td><td>&quot;250 LIVINGSTON STREET, BROOKLY…</td><td>null</td><td>&quot;New York City residency is gen…</td><td>null</td><td>&quot;03/04/2024&quot;</td><td>&quot;02/10/2025&quot;</td><td>&quot;01/02/2024&quot;</td><td>&quot;Internal&quot;</td></tr><tr><td>618360</td><td>&quot;DEPT OF ENVIRONMENT PROTECTION&quot;</td><td>1</td><td>&quot;ACCOUNTABLE MANAGER&quot;</td><td>&quot;ASSOCIATE PROJECT MANAGER&quot;</td><td>&quot;Competitive-1&quot;</td><td>&quot;22427&quot;</td><td>&quot;02&quot;</td><td>&quot;Engineering, Architecture, &amp; P…</td><td>&quot;F&quot;</td><td>&quot;Experienced (non-manager)&quot;</td><td>81571.0</td><td>119554.0</td><td>&quot;Annual&quot;</td><td>&quot;465 Columbus Ave. Valhalla, Ny&quot;</td><td>&quot;UPSTATE CAPITAL CONSTR. - IFA&quot;</td><td>&quot;The NYC Department of Environm…</td><td>&quot;One year of full-time satisfac…</td><td>null</td><td>null</td><td>null</td><td>null</td><td>null</td><td>null</td><td>&quot;New York City Residency is not…</td><td>null</td><td>&quot;01/02/2024&quot;</td><td>&quot;02/10/2025&quot;</td><td>&quot;01/02/2024&quot;</td><td>&quot;Internal/External&quot;</td></tr><tr><td>620792</td><td>&quot;DEPT OF ENVIRONMENT PROTECTION&quot;</td><td>1</td><td>&quot;Senior EHS Specialist â Asse…</td><td>&quot;CITY RESEARCH SCIENTIST&quot;</td><td>&quot;Non-Competitive-5&quot;</td><td>&quot;21744&quot;</td><td>&quot;01&quot;</td><td>&quot;Public Safety, Inspections, &amp; …</td><td>&quot;F&quot;</td><td>&quot;Experienced (non-manager)&quot;</td><td>70087.0</td><td>84805.0</td><td>&quot;Annual&quot;</td><td>&quot;96-05 Horace Harding Expway&quot;</td><td>&quot;Dept of Environment Protection&quot;</td><td>&quot;IMPORTANT NOTE: Candidates sel…</td><td>&quot;1.&nbsp;&nbsp;For Assignment Level I (on…</td><td>&quot;Preferred Skills: 1. Highly pr…</td><td>&quot;Special Requirement Please not…</td><td>&quot;Click Apply Now button&quot;</td><td>&quot;35 hours per week/day (Non-tra…</td><td>&quot;96-05 Horace Harding Expresswa…</td><td>null</td><td>&quot;New York City residency is gen…</td><td>null</td><td>&quot;01/02/2024&quot;</td><td>&quot;02/10/2025&quot;</td><td>&quot;01/02/2024&quot;</td><td>&quot;Internal/External&quot;</td></tr></tbody></table></div>"
      ],
      "text/plain": [
       "shape: (5, 30)\n",
       "┌────────┬────────────┬────────────┬───────────┬───┬───────────┬───────────┬───────────┬───────────┐\n",
       "│ Job ID ┆ Agency     ┆ # Of       ┆ Business  ┆ … ┆ Posting   ┆ Process   ┆ Posting   ┆ Posting   │\n",
       "│ ---    ┆ ---        ┆ Positions  ┆ Title     ┆   ┆ Updated   ┆ Date      ┆ Date      ┆ Type      │\n",
       "│ i64    ┆ str        ┆ ---        ┆ ---       ┆   ┆ ---       ┆ ---       ┆ ---       ┆ ---       │\n",
       "│        ┆            ┆ i64        ┆ str       ┆   ┆ str       ┆ str       ┆ str       ┆ str       │\n",
       "╞════════╪════════════╪════════════╪═══════════╪═══╪═══════════╪═══════════╪═══════════╪═══════════╡\n",
       "│ 695632 ┆ DEPARTMENT ┆ 1          ┆ Energy    ┆ … ┆ 01/17/202 ┆ 02/10/202 ┆ 01/01/202 ┆ Internal/ │\n",
       "│        ┆ OF TRANSPO ┆            ┆ Analyst   ┆   ┆ 5         ┆ 5         ┆ 5         ┆ External  │\n",
       "│        ┆ RTATION    ┆            ┆           ┆   ┆           ┆           ┆           ┆           │\n",
       "│ 615441 ┆ DEPT OF    ┆ 1          ┆ ACCOUNTAB ┆ … ┆ 01/02/202 ┆ 02/10/202 ┆ 01/02/202 ┆ Internal/ │\n",
       "│        ┆ ENVIRONMEN ┆            ┆ LE        ┆   ┆ 4         ┆ 5         ┆ 4         ┆ External  │\n",
       "│        ┆ T          ┆            ┆ MANAGER   ┆   ┆           ┆           ┆           ┆           │\n",
       "│        ┆ PROTECTION ┆            ┆           ┆   ┆           ┆           ┆           ┆           │\n",
       "│ 619255 ┆ DEPT OF    ┆ 1          ┆ Chief     ┆ … ┆ 03/04/202 ┆ 02/10/202 ┆ 01/02/202 ┆ Internal  │\n",
       "│        ┆ ENVIRONMEN ┆            ┆ Inspector ┆   ┆ 4         ┆ 5         ┆ 4         ┆           │\n",
       "│        ┆ T          ┆            ┆           ┆   ┆           ┆           ┆           ┆           │\n",
       "│        ┆ PROTECTION ┆            ┆           ┆   ┆           ┆           ┆           ┆           │\n",
       "│ 618360 ┆ DEPT OF    ┆ 1          ┆ ACCOUNTAB ┆ … ┆ 01/02/202 ┆ 02/10/202 ┆ 01/02/202 ┆ Internal/ │\n",
       "│        ┆ ENVIRONMEN ┆            ┆ LE        ┆   ┆ 4         ┆ 5         ┆ 4         ┆ External  │\n",
       "│        ┆ T          ┆            ┆ MANAGER   ┆   ┆           ┆           ┆           ┆           │\n",
       "│        ┆ PROTECTION ┆            ┆           ┆   ┆           ┆           ┆           ┆           │\n",
       "│ 620792 ┆ DEPT OF    ┆ 1          ┆ Senior    ┆ … ┆ 01/02/202 ┆ 02/10/202 ┆ 01/02/202 ┆ Internal/ │\n",
       "│        ┆ ENVIRONMEN ┆            ┆ EHS Speci ┆   ┆ 4         ┆ 5         ┆ 4         ┆ External  │\n",
       "│        ┆ T          ┆            ┆ alist â ┆   ┆           ┆           ┆           ┆           │\n",
       "│        ┆ PROTECTION ┆            ┆ Asse…     ┆   ┆           ┆           ┆           ┆           │\n",
       "└────────┴────────────┴────────────┴───────────┴───┴───────────┴───────────┴───────────┴───────────┘"
      ]
     },
     "execution_count": 8,
     "metadata": {},
     "output_type": "execute_result"
    }
   ],
   "source": [
    "jobs_cleaned.head()"
   ]
  },
  {
   "cell_type": "code",
   "execution_count": 9,
   "id": "931132c93a0fe487",
   "metadata": {
    "ExecuteTime": {
     "end_time": "2025-04-06T19:37:21.917265Z",
     "start_time": "2025-04-06T19:37:21.842439Z"
    }
   },
   "outputs": [],
   "source": [
    "address_list = jobs_cleaned[\"Work Location\"].unique().to_list()"
   ]
  },
  {
   "cell_type": "code",
   "execution_count": 10,
   "id": "c1ea48dd2f7ac83",
   "metadata": {
    "ExecuteTime": {
     "end_time": "2025-04-06T19:37:23.236275Z",
     "start_time": "2025-04-06T19:37:22.670896Z"
    }
   },
   "outputs": [],
   "source": [
    "import geocoder\n",
    "\n",
    "api_key = \"mOUAaY7zU3nx1FQybizFXuXZ0m97i3Iw\""
   ]
  },
  {
   "cell_type": "code",
   "execution_count": 11,
   "id": "4466f5ca70fec55a",
   "metadata": {
    "ExecuteTime": {
     "end_time": "2025-04-06T19:38:45.493909Z",
     "start_time": "2025-04-06T19:37:23.572572Z"
    }
   },
   "outputs": [
    {
     "name": "stderr",
     "output_type": "stream",
     "text": [
      "Status code 404 from https://api.tomtom.com/search/2/geocode/1 Hogan Pl./100 Centre St., N..json: ERROR - 404 Client Error: Not Found for url: https://api.tomtom.com/search/2/geocode/1%20Hogan%20Pl./100%20Centre%20St.,%20N..json?key=mOUAaY7zU3nx1FQybizFXuXZ0m97i3Iw&limit=1\n",
      "Status code 404 from https://api.tomtom.com/search/2/geocode/19 1/2 Pitt St., N.Y..json: ERROR - 404 Client Error: Not Found for url: https://api.tomtom.com/search/2/geocode/19%201/2%20Pitt%20St.,%20N.Y..json?key=mOUAaY7zU3nx1FQybizFXuXZ0m97i3Iw&limit=1\n",
      "Status code 404 from https://api.tomtom.com/search/2/geocode/QN/SI Neighborhood 03.json: ERROR - 404 Client Error: Not Found for url: https://api.tomtom.com/search/2/geocode/QN/SI%20Neighborhood%2003.json?key=mOUAaY7zU3nx1FQybizFXuXZ0m97i3Iw&limit=1\n",
      "Status code 404 from https://api.tomtom.com/search/2/geocode/BK/SI BRIEFING REVIEW.json: ERROR - 404 Client Error: Not Found for url: https://api.tomtom.com/search/2/geocode/BK/SI%20BRIEFING%20REVIEW.json?key=mOUAaY7zU3nx1FQybizFXuXZ0m97i3Iw&limit=1\n"
     ]
    }
   ],
   "source": [
    "\n",
    "# Perform geocoding\n",
    "geocoded_results = []\n",
    "\n",
    "for address in address_list:\n",
    "    g = geocoder.tomtom(address, key=api_key)\n",
    "    # Check if the geocoding was successful\n",
    "    if g.ok:\n",
    "        # Retrieve latitude and longitude\n",
    "        latlng = g.latlng\n",
    "        geocoded_results.append((address, latlng[0],latlng[1]))\n",
    "    else:\n",
    "        geocoded_results.append((address, None, None))\n"
   ]
  },
  {
   "cell_type": "code",
   "execution_count": 12,
   "id": "27866fa23f0128a5",
   "metadata": {
    "ExecuteTime": {
     "end_time": "2025-04-06T19:39:44.513757Z",
     "start_time": "2025-04-06T19:38:45.584726Z"
    }
   },
   "outputs": [],
   "source": [
    "ny_bbox = \"-74.2589,40.4774,-73.7004,40.9176\"  # covers the NYC area\n",
    "\n",
    "geocoded_results = []\n",
    "for address in address_list:\n",
    "    url = f\"https://api.tomtom.com/search/2/geocode/{address}.json\"\n",
    "    params = {\n",
    "        \"key\": api_key,\n",
    "        \"countrySet\": \"US\",  # Limit to United States\n",
    "        \"boundingBox\": ny_bbox,  # Limit to NYC area\n",
    "        \"limit\": 1  # Return only the best match\n",
    "    }\n",
    "\n",
    "    response = requests.get(url, params=params)\n",
    "    if response.status_code == 200:\n",
    "        result = response.json()\n",
    "        if result[\"results\"]:\n",
    "            lat = result[\"results\"][0][\"position\"][\"lat\"]\n",
    "            lon = result[\"results\"][0][\"position\"][\"lon\"]\n",
    "            geocoded_results.append((address, lat, lon))\n",
    "        else:\n",
    "            geocoded_results.append((address, None, None))\n",
    "    else:\n",
    "        geocoded_results.append((address, None, None))"
   ]
  },
  {
   "cell_type": "code",
   "execution_count": 41,
   "id": "d53e177517c9b40a",
   "metadata": {
    "ExecuteTime": {
     "end_time": "2025-04-06T20:01:36.323718Z",
     "start_time": "2025-04-06T20:01:36.238095Z"
    }
   },
   "outputs": [
    {
     "data": {
      "text/plain": [
       "300"
      ]
     },
     "execution_count": 41,
     "metadata": {},
     "output_type": "execute_result"
    }
   ],
   "source": [
    "address_df = pl.DataFrame(geocoded_results,schema=[\"Work Location\", \"Latitude\", \"Longitude\"],orient=\"row\")\n",
    "len(address_df)"
   ]
  },
  {
   "cell_type": "code",
   "execution_count": 42,
   "id": "365867e6b0620f53",
   "metadata": {
    "ExecuteTime": {
     "end_time": "2025-04-06T20:01:38.935126Z",
     "start_time": "2025-04-06T20:01:38.519405Z"
    }
   },
   "outputs": [
    {
     "data": {
      "text/html": [
       "<div><style>\n",
       ".dataframe > thead > tr,\n",
       ".dataframe > tbody > tr {\n",
       "  text-align: right;\n",
       "  white-space: pre-wrap;\n",
       "}\n",
       "</style>\n",
       "<small>shape: (300, 3)</small><table border=\"1\" class=\"dataframe\"><thead><tr><th>Work Location</th><th>Latitude</th><th>Longitude</th></tr><tr><td>str</td><td>f64</td><td>f64</td></tr></thead><tbody><tr><td>&quot;88-11 165 Street Jamaica&quot;</td><td>40.708602</td><td>-73.796897</td></tr><tr><td>&quot;58-52 Grand Ave, Maspeth Queen&quot;</td><td>40.719859</td><td>-73.91049</td></tr><tr><td>&quot;7870 State Rd 42 Grahamsville,&quot;</td><td>39.448692</td><td>-86.90754</td></tr><tr><td>&quot;1 Liberty Plaza NYC&quot;</td><td>40.709745</td><td>-74.010897</td></tr><tr><td>&quot;Office of the Senior Director&quot;</td><td>32.319707</td><td>-90.235367</td></tr><tr><td>&hellip;</td><td>&hellip;</td><td>&hellip;</td></tr><tr><td>&quot;160 West 100Th Street Ny&quot;</td><td>40.796139</td><td>-73.967886</td></tr><tr><td>&quot;REES - Zone Coordination&quot;</td><td>44.855898</td><td>-123.045032</td></tr><tr><td>&quot;BK/SI BRIEFING REVIEW&quot;</td><td>null</td><td>null</td></tr><tr><td>&quot;30-01 HARPER STREET,CORONA,NY&quot;</td><td>40.764282</td><td>-73.838989</td></tr><tr><td>&quot;Business Intelligence&quot;</td><td>34.239034</td><td>-84.203259</td></tr></tbody></table></div>"
      ],
      "text/plain": [
       "shape: (300, 3)\n",
       "┌────────────────────────────────┬───────────┬─────────────┐\n",
       "│ Work Location                  ┆ Latitude  ┆ Longitude   │\n",
       "│ ---                            ┆ ---       ┆ ---         │\n",
       "│ str                            ┆ f64       ┆ f64         │\n",
       "╞════════════════════════════════╪═══════════╪═════════════╡\n",
       "│ 88-11 165 Street Jamaica       ┆ 40.708602 ┆ -73.796897  │\n",
       "│ 58-52 Grand Ave, Maspeth Queen ┆ 40.719859 ┆ -73.91049   │\n",
       "│ 7870 State Rd 42 Grahamsville, ┆ 39.448692 ┆ -86.90754   │\n",
       "│ 1 Liberty Plaza NYC            ┆ 40.709745 ┆ -74.010897  │\n",
       "│ Office of the Senior Director  ┆ 32.319707 ┆ -90.235367  │\n",
       "│ …                              ┆ …         ┆ …           │\n",
       "│ 160 West 100Th Street Ny       ┆ 40.796139 ┆ -73.967886  │\n",
       "│ REES - Zone Coordination       ┆ 44.855898 ┆ -123.045032 │\n",
       "│ BK/SI BRIEFING REVIEW          ┆ null      ┆ null        │\n",
       "│ 30-01 HARPER STREET,CORONA,NY  ┆ 40.764282 ┆ -73.838989  │\n",
       "│ Business Intelligence          ┆ 34.239034 ┆ -84.203259  │\n",
       "└────────────────────────────────┴───────────┴─────────────┘"
      ]
     },
     "execution_count": 42,
     "metadata": {},
     "output_type": "execute_result"
    }
   ],
   "source": [
    "address_df"
   ]
  },
  {
   "cell_type": "code",
   "execution_count": 57,
   "id": "3c6713a240d4926a",
   "metadata": {
    "ExecuteTime": {
     "end_time": "2025-04-06T20:05:26.071092Z",
     "start_time": "2025-04-06T20:05:26.054894Z"
    }
   },
   "outputs": [
    {
     "data": {
      "text/html": [
       "<div><style>\n",
       ".dataframe > thead > tr,\n",
       ".dataframe > tbody > tr {\n",
       "  text-align: right;\n",
       "  white-space: pre-wrap;\n",
       "}\n",
       "</style>\n",
       "<small>shape: (62, 3)</small><table border=\"1\" class=\"dataframe\"><thead><tr><th>Work Location</th><th>Latitude</th><th>Longitude</th></tr><tr><td>str</td><td>f64</td><td>f64</td></tr></thead><tbody><tr><td>&quot;C&amp;RM-Security Operations&quot;</td><td>null</td><td>null</td></tr><tr><td>&quot;Bronx Neighborhood 07&quot;</td><td>null</td><td>null</td></tr><tr><td>&quot;Procedures Development &amp; Admin&quot;</td><td>null</td><td>null</td></tr><tr><td>&quot;Heating Mgt-Operations&quot;</td><td>null</td><td>null</td></tr><tr><td>&quot;ESM-Program &amp; Portfolio Mgt&quot;</td><td>null</td><td>null</td></tr><tr><td>&hellip;</td><td>&hellip;</td><td>&hellip;</td></tr><tr><td>&quot;SVP for Capital Programs&quot;</td><td>null</td><td>null</td></tr><tr><td>&quot;163 W 125 St, New York, Ny&quot;</td><td>null</td><td>null</td></tr><tr><td>&quot;Maximo &amp; Asset Management&quot;</td><td>null</td><td>null</td></tr><tr><td>&quot;Elevator Svcs &amp; Repair (Field)&quot;</td><td>null</td><td>null</td></tr><tr><td>&quot;BK/SI BRIEFING REVIEW&quot;</td><td>null</td><td>null</td></tr></tbody></table></div>"
      ],
      "text/plain": [
       "shape: (62, 3)\n",
       "┌────────────────────────────────┬──────────┬───────────┐\n",
       "│ Work Location                  ┆ Latitude ┆ Longitude │\n",
       "│ ---                            ┆ ---      ┆ ---       │\n",
       "│ str                            ┆ f64      ┆ f64       │\n",
       "╞════════════════════════════════╪══════════╪═══════════╡\n",
       "│ C&RM-Security Operations       ┆ null     ┆ null      │\n",
       "│ Bronx Neighborhood 07          ┆ null     ┆ null      │\n",
       "│ Procedures Development & Admin ┆ null     ┆ null      │\n",
       "│ Heating Mgt-Operations         ┆ null     ┆ null      │\n",
       "│ ESM-Program & Portfolio Mgt    ┆ null     ┆ null      │\n",
       "│ …                              ┆ …        ┆ …         │\n",
       "│ SVP for Capital Programs       ┆ null     ┆ null      │\n",
       "│ 163 W 125 St, New York, Ny     ┆ null     ┆ null      │\n",
       "│ Maximo & Asset Management      ┆ null     ┆ null      │\n",
       "│ Elevator Svcs & Repair (Field) ┆ null     ┆ null      │\n",
       "│ BK/SI BRIEFING REVIEW          ┆ null     ┆ null      │\n",
       "└────────────────────────────────┴──────────┴───────────┘"
      ]
     },
     "execution_count": 57,
     "metadata": {},
     "output_type": "execute_result"
    }
   ],
   "source": [
    "address_df.filter(pl.col(\"Latitude\").is_null())"
   ]
  },
  {
   "cell_type": "code",
   "execution_count": 66,
   "id": "5b140a86a4d59a24",
   "metadata": {
    "ExecuteTime": {
     "end_time": "2025-04-06T20:49:48.682606Z",
     "start_time": "2025-04-06T20:49:46.328833Z"
    }
   },
   "outputs": [
    {
     "name": "stdout",
     "output_type": "stream",
     "text": [
      "Total locations: 305\n"
     ]
    }
   ],
   "source": [
    "manual_address_data = [\n",
    "    # First 100 entries\n",
    "    (\"88-11 165 Street Jamaica\", 40.708602, -73.796897),\n",
    "    (\"58-52 Grand Ave, Maspeth Queen\", 40.719859, -73.91049),\n",
    "    (\"7870 State Rd 42 Grahamsville\", 40.7128, -74.0060),\n",
    "    (\"1 Liberty Plaza NYC\", 40.7097451, -74.0108966),\n",
    "    (\"Office of the Senior Director\", 40.7128, -74.0060),\n",
    "    (\"30-30 47TH AVE\", 40.7495936, -73.9389687),\n",
    "    (\"1322 Bedford Avenue, Bklyn.\", 40.6838247, -73.961704),\n",
    "    (\"505 Park Avenue\", 40.7729964, -73.965413),\n",
    "    (\"105 St & 5 Ave\", 40.7128, -74.0060),\n",
    "    (\"25 Chapel St, Brooklyn Ny\", 40.6973066, -73.9858588),\n",
    "    (\"275-285 Bergen St, Brooklyn Ny\", 40.6838247, -73.9827527),\n",
    "    (\"Monroe-Clason Point\", 40.807641, -73.851697),\n",
    "    (\"715 Ocean Terrace\", 40.7128, -74.0060),\n",
    "    (\"Office of the Chief Op Officer\", 40.7128, -74.0060),\n",
    "    (\"4 World Trade Center\", 40.710668, -74.013292),\n",
    "    (\"15 Skyline Drive\", 40.7128, -74.0060),\n",
    "    (\"120 Broadway, New York, NY\", 40.7077, -74.0119),\n",
    "    (\"130 Stuyvesant Place, S.I.\", 40.642776, -74.077248),\n",
    "    (\"255 Greenwich Street\", 40.7145278, -74.0112651),\n",
    "    (\"280 Broadway, 6th Floor, N.Y.\", 40.7147, -74.0054),\n",
    "    (\"9 Metrotech Center, Brooklyn N\", 40.6944202, -73.9860691),\n",
    "    (\"305 Rider Avenue, Bronx\", 40.81321, -73.927162),\n",
    "    (\"851 Grand Concourse, Bronx\", 40.8262842, -73.9235102),\n",
    "    (\"15 Metrotech\", 40.6931652, -73.9872229),\n",
    "    (\"Landlord & Tenant\", 40.7128, -74.0060),\n",
    "    (\"161-169 East 110 Street\", 40.7955, -73.9388),\n",
    "    (\"REES - Job Generation\", 40.7128, -74.0060),\n",
    "    (\"295 Flatbush Ext Brooklyn\", 40.691782, -73.982042),\n",
    "    (\"109 E 16Th St., N.Y.\", 40.7356015, -73.988216),\n",
    "    (\"52-35 58Th St., Woodside, Ny\", 40.7344333, -73.9098232),\n",
    "    (\"300 Skillman Avenue, Bklyn.\", 40.7167635, -73.938413),\n",
    "    (\"110 William St. N Y\", 40.7104, -74.0065),\n",
    "    (\"2398 State Rt 28A, Olive Bridg\", 41.945774, -74.20354),\n",
    "    (\"Justice Sonia Sotomayor Houses\", 40.7128, -74.0060),\n",
    "    (\"75-20 Astoria Blvd\", 40.764099, -73.89331),\n",
    "    (\"32-20 Northern Blvd, L.I.C. Ny\", 40.7518043, -73.9312226),\n",
    "    (\"33-00 Northern Blvd., Lic Ny\", 40.751708, -73.930908),\n",
    "    (\"Forest Pk 80-30 Park Lane Quee\", 40.7045, -73.8538),\n",
    "    (\"233 Schermerhorn Street, Bklyn\", 40.6885382, -73.9845541),\n",
    "    (\"Engineering Audit\", 40.7128, -74.0060),\n",
    "    (\"100 Gold Street\", 40.7079, -74.0086),\n",
    "    (\"280 Broadway, 7th Floor, N.Y.\", 40.7147, -74.0054),\n",
    "    (\"2389 Route 28A, Shokan, Ny\", 41.946345, -74.20096),\n",
    "    (\"66 John Street, New York, Ny\", 40.7079, -74.0069),\n",
    "    (\"Emergency Services\", 40.7128, -74.0060),\n",
    "    (\"Shore Rd-Chaplaincy, E. Elm, N\", 40.6346, -74.1176),\n",
    "    (\"600 W 168Th St., N.Y.\", 40.841, -73.940294),\n",
    "    (\"111 Livingston St., Bklyn., N.\", 40.6905, -73.9857),\n",
    "    (\"Office of the Director\", 40.7128, -74.0060),\n",
    "    (\"1230 Zerega Avenue, Bronx Ny\", 40.833922, -73.844366),\n",
    "    (\"55 Water St Ny Ny\", 40.7048, -74.0095),\n",
    "    (\"2551 Bainbridge Ave., Bronx\", 40.8627267, -73.8931882),\n",
    "    (\"198 E161St Street Bronx N.Y.\", 40.825862, -73.921071),\n",
    "    (\"201 Bay Street, Staten Is Ny\", 40.6374121, -74.0758989),\n",
    "    (\"44 Beaver St., N.Y.\", 40.7052, -74.0119),\n",
    "    (\"Sands & Navy Street Bklyn N Y\", 40.7012, -74.0012),\n",
    "    (\"42-09 28th Street\", 40.7495936, -73.9389687),\n",
    "    (\"Beach 41st St Consolidation\", 40.5933228, -73.7731934),\n",
    "    (\"335 Adams Street, Brooklyn Ny\", 40.6935074, -73.9884246),\n",
    "    (\"General Litigation\", 40.7128, -74.0060),\n",
    "    (\"26 Central Avenue, S.I.\", 40.6428, -74.0767),\n",
    "    (\"280 Broadway, 4th Floor, N.Y.\", 40.7147, -74.0054),\n",
    "    (\"43-01 Berrian Blvd, Astoria Qu\", 40.7796701, -73.894413),\n",
    "    (\"22 Reade St, Ny\", 40.7142454, -74.0046926),\n",
    "    (\"Manhattan Floating Staff\", 40.7834, -73.9662),\n",
    "    (\"725 West 135th Street\", 40.8256836, -73.9567871),\n",
    "    (\"RES Engmt-Zone Coordination\", 40.7128, -74.0060),\n",
    "    (\"59 Maiden Lane\", 40.7076, -74.0087),\n",
    "    (\"30-48 Linden Place\", 40.7695624, -73.8329901),\n",
    "    (\"16 Samantha Lane\", 40.553596, -74.211655),\n",
    "    (\"2 Washington Street\", 40.7128, -74.0060),\n",
    "    (\"195 Montague St Brooklyn 11201\", 40.694351, -73.991287),\n",
    "    (\"2238 Fifth Ave New York\", 40.8140674, -73.9377409),\n",
    "    (\"1 Battery Park Plaza\", 40.7048433, -74.0145025),\n",
    "    (\"3701 Jerome Ave, Bx NY 10467\", 40.888154, -73.8783038),\n",
    "    (\"751 Mill Rd\", 40.7128, -74.0060),\n",
    "    (\"120 Schermerhorn St Bklyn Ny\", 40.6897838, -73.9889647),\n",
    "    (\"61 BROADWAY, NY, NY\", 40.7052, -74.0099),\n",
    "    (\"Wards Island, N.Y.\", 40.7861944, -73.9292771),\n",
    "    (\"530 West 166th Street\", 40.8393004, -73.9395735),\n",
    "    (\"219 Beach 59Th St., Queens\", 40.592698, -73.789407),\n",
    "    (\"1270 Ryawa Avenue\", 40.8035278, -73.8828124),\n",
    "    (\"17 Bristol Street Brooklyn Ny\", 40.6708076, -73.9128186),\n",
    "    (\"1278 Sedgwick Ave., Bronx\", 40.8642, -73.9141),\n",
    "    (\"144-06 94Th Avenue, Jamaica Ny\", 40.698368, -73.807678),\n",
    "    (\"Rikers Island\", 40.791136, -73.884255),\n",
    "    (\"71 Smith Avenue, Kingston, Ny\", 41.930134, -73.998946),\n",
    "    (\"10 Walker Rd, Valhalla NY10595\", 41.0770081, -73.8096622),\n",
    "    (\"1790 Grand Concourse, Bronx\", 40.8464586, -73.9088313),\n",
    "    (\"Administration-EVP\", 40.7128, -74.0060),\n",
    "    (\"24 West 61 Street\", 40.7699798, -73.9829076),\n",
    "    (\"335 Central Ave., Brooklyn\", 40.694684, -73.918703),\n",
    "    (\"31-89 123rd Street CP TLC\", 40.7677185, -73.8453188),\n",
    "    (\"125 Worth Street, Nyc\", 40.7154842, -74.0024966),\n",
    "    (\"400 8Th Ave., N.Y.\", 40.749326, -73.995073),\n",
    "    (\"12 W 14Th St., N.Y.\", 40.7376, -73.9977),\n",
    "    (\"24-55 Bklyn Qns Expy Woodside\", 40.7452, -73.9034),\n",
    "    (\"346 Broadway, N.Y.,Ny\", 40.7149, -74.0033),\n",
    "    (\"1826 Arthur Ave., Bronx\", 40.8441191, -73.8942743),\n",
    "    (\"154 St. Powells Cove-Whiteston\", 40.794729, -73.806886),\n",
    "    (\"33 Beaver St, New York Ny\", 40.7050734, -74.0117914),\n",
    "    (\"375 Pearl Street\", 40.7128, -74.0060),\n",
    "    (\"16 Little Hollow Road\", 41.8436513, -74.5450855),\n",
    "    (\"233 Broadway\", 40.7149, -74.0033),\n",
    "    (\"Qns Gen, 82-68 164Th St. Qns\", 40.7128, -74.0060),\n",
    "    (\"260 E 161st St., Brx\", 40.8254834, -73.9190287),\n",
    "    (\"1 Fordham Plaza, Bronx\", 40.857175, -73.869221),\n",
    "    (\"Throggs Neck Houses\", 40.8198394, -73.8138908),\n",
    "    (\"265 E 161st Street\", 40.8260754, -73.9194655),\n",
    "    (\"455 First Ave., N.Y.\", 40.7392107, -73.9771619),\n",
    "    (\"OCSE Central Court Svcs\", 40.7128, -74.0060),\n",
    "    (\"Law Dept-Public Information\", 40.7128, -74.0060),\n",
    "    (\"5 Manhattan West\", 40.7559, -73.9916),\n",
    "    (\"1309 Fulton Ave Bronx\", 40.8327231, -73.9032866),\n",
    "    (\"150 William Street, New York N\", 40.7104, -74.0065),\n",
    "    (\"4055 Tenth Avenue\", 40.870072, -73.913688),\n",
    "    (\"420 East 38Th St.\", 40.7128, -74.0060),\n",
    "    (\"22 Cortlandt Street\", 40.7104, -74.0113),\n",
    "    (\"1650 Selwyn Ave, Bronx\", 40.843456, -73.91011),\n",
    "    (\"12-26 31St Avenue Queens, N.Y.\", 40.768273, -73.9324505),\n",
    "    (\"Alley Pond Pk Tennis Union Tpk\", 40.7421749, -73.7394765),\n",
    "    (\"1 Murray Hulbert Ave, Staten I\", 40.6378694, -74.0736411),\n",
    "    (\"95 Evergreen Ave Brooklyn\", 40.700096, -73.932068),\n",
    "    (\"30-10 Starr Avenue\", 40.7696, -73.8329),\n",
    "    (\"165 Cadman Plaza East\", 40.6991013, -73.9896272),\n",
    "    (\"280 Broadway, 3rd Floor, N.Y.\", 40.7147, -74.0054),\n",
    "    (\"1270 Victory Blvd, Staten Isl\", 40.6150542, -74.1056247),\n",
    "    (\"384 E 149Th St, Bronx\", 40.816032, -73.918442),\n",
    "    (\"16-18 Old Broadway\", 40.8128, -73.9575),\n",
    "    (\"123 William Street, NY, NY\", 40.7104, -74.0065),\n",
    "    (\"Bronx Hdqt., 1 Bx Rvr Pkwy., B\", 40.8562814, -73.872347),\n",
    "    (\"Strategic Partnerships\", 40.7128, -74.0060),\n",
    "    (\"80 Centre St., N.Y.\", 40.7146, -74.0027),\n",
    "    (\"105 East 106 Street, New York\", 40.792905, -73.94719),\n",
    "    (\"320 Schermerhorn St., Brooklyn\", 40.687016, -73.981682),\n",
    "    (\"Manhattan Neighborhood 09\", 40.8026, -73.9436),\n",
    "    (\"155 West Broadway New York N Y\", 40.7189, -74.0083),\n",
    "    (\"2500 Halsey Street\", 40.836486, -73.841308),\n",
    "    (\"182 Joline Ave, Staten Isl\", 40.5080626, -74.2357441),\n",
    "    (\"350 Jay St, Brooklyn Ny\", 40.693661, -73.98738),\n",
    "    (\"Paint Administration\", 40.7128, -74.0060),\n",
    "    (\"2 Lafayette St., N.Y.\", 40.7146, -74.0041),\n",
    "    (\"78-88 Park Drive East QueensNY\", 40.7178822, -73.8254758),\n",
    "    (\"REES - Intake & Outreach\", 40.7128, -74.0060),\n",
    "    (\"Prospect Pk 95 Ppw &5Th St\", 40.6615, -73.9698),\n",
    "    (\"303 9Th Ave., N.Y.\", 40.749564, -73.999791),\n",
    "    (\"Administration Unit\", 40.7128, -74.0060),\n",
    "    (\"7866 State Route 42\", 40.7128, -74.0060),\n",
    "    (\"40 Worth St., N.Y.\", 40.716881, -74.007011),\n",
    "    (\"2 Metro Tech\", 40.693076, -73.9872542),\n",
    "    (\"1274 Bedford Ave., Brooklyn\", 40.679915, -73.953705),\n",
    "    (\"L&D Technical Training\", 40.7128, -74.0060),\n",
    "    (\"492 First Avenue, New York, Ny\", 40.7403798, -73.975731),\n",
    "    (\"Pest Management-Dir\", 40.7128, -74.0060),\n",
    "    (\"180 Maiden Lane\", 40.7062, -74.0071),\n",
    "    (\"Hazen St-Sod-Supp.Svcs., E.Elm\", 40.6346, -74.1176),\n",
    "    (\"53-15 58Th St., Queens\", 40.7329406, -73.9108821),\n",
    "    (\"240-250-252 Livingston Street\", 40.6905, -73.9857),\n",
    "    (\"2501 Grand Concourse\", 40.862915, -73.897399),\n",
    "    (\"39 Auburn Pl, Brooklyn\", 40.694653, -73.976581),\n",
    "    (\"1780 Ocean Avenue\", 40.618692, -73.955374),\n",
    "    (\"42 Broadway, N.Y.\", 40.7055, -74.0134),\n",
    "    (\"150-20 134 St. Jamaica Queens\", 40.663865, -73.80648),\n",
    "    (\"Flushing Meadow Pk Olmsted Ctr\", 40.7470, -73.8456),\n",
    "    (\"1377 Jerome Avenue, Bronx\", 40.8399559, -73.9184156),\n",
    "    (\"250 Broadway, 12Th Fl.\", 40.7147, -74.0054),\n",
    "    (\"9 Bond Street\", 40.7226, -73.9915),\n",
    "    (\"199 River Road North\", 40.7128, -74.0060),\n",
    "    (\"3030 Third Ave\", 40.8197205, -73.9132197),\n",
    "    (\"900 Sheridan Ave., Bronx\", 40.8268981, -73.9207185),\n",
    "    (\"1932 Arthur Ave, Bronx\", 40.845711, -73.892754),\n",
    "    (\"516 Bergen St., Brooklyn\", 40.6801948, -73.9734048),\n",
    "    (\"470 Vanderbilt Ave\", 40.6829646, -73.9679592),\n",
    "    (\"106-36 180th Street\", 40.702871, -73.777796),\n",
    "    (\"101-07 Farragut Road, Brooklyn\", 40.6484158, -73.9020872),\n",
    "    (\"165-15 Archer Ave., Queens\", 40.704468, -73.793495),\n",
    "    (\"1932 Arthur Ave 2Nd Flr Bronx\", 40.845711, -73.892754),\n",
    "    (\"560 West 133 Street, New York\", 40.8185036, -73.9555619),\n",
    "    (\"260 Eleventh Ave., N.Y.\", 40.7510311, -74.0052203),\n",
    "    (\"329 Greenpoint Ave., Brooklyn\", 40.7316928, -73.9462305),\n",
    "    (\"250 Livingston Street\", 40.6905, -73.9857),\n",
    "    (\"Whitman Houses\", 40.6824, -73.9389),\n",
    "    (\"356 Flushing Ave, Brooklyn\", 40.6983168, -73.9604032),\n",
    "    (\"1218 Prospect Place Bklyn, N.Y\", 40.6699, -73.9428),\n",
    "    (\"16 Court Street\", 40.6939, -73.9918),\n",
    "    (\"Corporate Secretary\", 40.7128, -74.0060),\n",
    "    (\"1075 Ralph Avenue Bklyn, N.Y.\", 40.6657, -73.9134),\n",
    "    (\"485 Throop Ave Brooklyn\", 40.6855193, -73.941142),\n",
    "    (\"430 East 30 Street, New York N\", 40.7392, -73.9772),\n",
    "    (\"520 1St Ave., N.Y.\", 40.7410, -73.9757),\n",
    "    (\"19 Grant Sq., Bklyn\", 40.6501, -73.9496),\n",
    "    (\"253 Broadway New York Ny\", 40.7149, -74.0033),\n",
    "    (\"215 E 161St St., Bronx\", 40.8264364, -73.9206132),\n",
    "    (\"158 E 115Th St., N.Y.\", 40.7976003, -73.9419102),\n",
    "    (\"151 East 151st Street\", 40.8240, -73.9274),\n",
    "    (\"66-26 Metropolitan Ave., Queen\", 40.712258, -73.891335),\n",
    "    (\"115 Chrystie Street\", 40.7186387, -73.9937728),\n",
    "    (\"NYC - All Boroughs\", 40.7128, -74.0060),\n",
    "    (\"Ave. Z & Knapp Ave., Brooklyn\", 40.590473, -73.932227),\n",
    "    (\"198 E 161st Street\", 40.825862, -73.921071),\n",
    "    (\"Policy\", 40.7128, -74.0060),\n",
    "    (\"48-34 35Th St., Queens\", 40.7399829, -73.9308489),\n",
    "    (\"Bayview\", 40.7128, -74.0060),\n",
    "    (\"1910 Monterey Ave., Bronx\", 40.8469813, -73.894963),\n",
    "    (\"890 Garrison Avenue\", 40.8171325, -73.8912149),\n",
    "    (\"3201 Jerome Ave, Bronx\", 40.8783032, -73.8867631),\n",
    "    (\"Hazen St-A.M.K.C., E. Elm, Ny\", 40.6346, -74.1176),\n",
    "    (\"1 Police Plaza, N.Y.\", 40.7128, -74.0060),\n",
    "    (\"1967 Turnbull Avenue, Bronx, N\", 40.8233231, -73.8566239),\n",
    "    (\"92-31 Union Hall St. Jamaica N\", 40.7037958, -73.7975029),\n",
    "    (\"30-30 Thomson Ave L I City Qns\", 40.7452, -73.9339),\n",
    "    (\"Queens-SI Floating Staff\", 40.7128, -74.0060),\n",
    "    (\"777 Third Avenue\", 40.7579, -73.9696),\n",
    "    (\"330 W 34Th St., N.Y.\", 40.752562, -73.995556),\n",
    "    (\"132 W 125Th St., N.Y.\", 40.808108, -73.947382),\n",
    "    (\"59-17 Junction Blvd Corona Ny\", 40.7347511, -73.864364),\n",
    "    (\"96-05 Horace Harding Expway\", 40.734989, -73.863487),\n",
    "    (\"465 Columbus Ave. Valhalla, Ny\", 41.107138, -73.781349),\n",
    "    (\"165 E 126Th St., N.Y.\", 40.8046305, -73.9355835),\n",
    "    (\"1 Centre St., N.Y.\", 40.7135, -74.0046),\n",
    "    (\"120-34 Queens Blvd, Kew Garden\", 40.7362, -73.8206),\n",
    "    (\"421 East 26th Street NY NY\", 40.73852, -73.9761709),\n",
    "    (\"31-00 47 Ave, 3 FL, LIC NY\", 40.7452, -73.9339),\n",
    "    (\"1912 Mermaid Avenue\", 40.576225, -73.986206),\n",
    "    (\"1775 Grand Concourse\", 40.846493, -73.910393),\n",
    "    (\"12 Metrotech Center\", 40.6943296, -73.9860516),\n",
    "    (\"1601 Ave. S, Brooklyn\", 40.603871, -73.955902),\n",
    "    (\"101 Tyrellan Avenue\", 40.526603, -74.228918),\n",
    "    (\"100 Church St., N.Y.\", 40.7128, -74.0060),\n",
    "    (\"Waste Management\", 40.7128, -74.0060),\n",
    "    (\"22 Nyc Highway 30A, Downsville\", 42.095696, -74.921567),\n",
    "    (\"94 Old Broadway, Ny\", 40.818003, -73.9555991),\n",
    "    (\"250 Church St., N.Y.\", 40.7155, -74.0092),\n",
    "    (\"122-66 Flatlands Ave\", 40.6541637, -73.8805894),\n",
    "    (\"160 West 100Th Street Ny\", 40.7961394, -73.9678858),\n",
    "    (\"REES - Zone Coordination\", 40.7128, -74.0060),\n",
    "    (\"30-01 HARPER STREET,CORONA,NY\", 40.7642822, -73.8389893),\n",
    "    (\"Business Intelligence\", 40.7128, -74.0060),\n",
    "    # Original 55 locations\n",
    "    (\"Budget-Office Of Director\", 40.7128, -74.0060),\n",
    "    (\"Procedures Development & Admin\", 40.7128, -74.0060),\n",
    "    (\"I&O-Application Mgt & Support\", 40.7128, -74.0060),\n",
    "    (\"QN/SI Neighborhood 03\", 40.7420, -73.8647),\n",
    "    (\"Brooklyn Floating Staff\", 40.6782, -73.9442),\n",
    "    (\"1075 Ralph Avenue Bklyn, N.Y.\", 40.6657, -73.9134),\n",
    "    (\"Heating Mgt-Operations\", 40.7128, -74.0060),\n",
    "    (\"Resident Relocation Svcs\", 40.7128, -74.0060),\n",
    "    (\"335 Adams Street, Brooklyn Ny\", 40.6931, -73.9868),\n",
    "    (\"Maximo & Asset Management\", 40.7128, -74.0060),\n",
    "    (\"A&CM Engineering Audit\", 40.7128, -74.0060),\n",
    "    (\"120-55 Queens Blvd, Queens Ny\", 40.7362, -73.8206),\n",
    "    (\"Manhattan Neighborhood 01\", 40.7146, -74.0071),\n",
    "    (\"Manhattan Neighborhood 03\", 40.7831, -73.9712),\n",
    "    (\"Construction, Safety & Quality\", 40.7128, -74.0060),\n",
    "    (\"Bronx Floating Staff\", 40.8448, -73.8648),\n",
    "    (\"Internal Audit & Assessment\", 40.7128, -74.0060),\n",
    "    (\"Abatement Unit\", 40.7128, -74.0060),\n",
    "    (\"Administrative Hearing Div\", 40.7128, -74.0060),\n",
    "    (\"Customer Contact Center\", 40.7128, -74.0060),\n",
    "    (\"19 1/2 Pitt St., N.Y.\", 40.7159, -73.9870),\n",
    "    (\"Bronx Neighborhood 02\", 40.8270, -73.9157),\n",
    "    (\"SVP for Capital Programs\", 40.7128, -74.0060),\n",
    "    (\"BK/SI BRIEFING REVIEW\", 40.5789, -74.1508),\n",
    "    (\"VP-Strategic Services\", 40.7128, -74.0060),\n",
    "    (\"1 Hogan Pl./100 Centre St., N.\", 40.7145, -74.0025),\n",
    "    (\"Forest Pk 80-30 Park Lane Quee\", 40.7045, -73.8538),\n",
    "    (\"Learning & Development-Dir\", 40.7128, -74.0060),\n",
    "    (\"123 William Street, NY, NY\", 40.7104, -74.0065),\n",
    "    (\"Brooklyn Neighborhood 02\", 40.6944, -73.9213),\n",
    "    (\"Bronx Neighborhood 05\", 40.8584, -73.8676),\n",
    "    (\"Project Management Operations\", 40.7128, -74.0060),\n",
    "    (\"C&RM-Security Operations\", 40.7128, -74.0060),\n",
    "    (\"NYC Pub Hsg Preservation Trust\", 40.7128, -74.0060),\n",
    "    (\"Law-Real Estate & Eco Dev\", 40.7128, -74.0060),\n",
    "    (\"Manhattan Neighborhood 02\", 40.7306, -73.9865),\n",
    "    (\"Manhattan Neighborhood 06\", 40.7936, -73.9418),\n",
    "    (\"1278 Sedgwick Ave., Bronx\", 40.8642, -73.9141),\n",
    "    (\"ESM-Program & Portfolio Mgt\", 40.7128, -74.0060),\n",
    "    (\"VP Office-PPPD\", 40.7128, -74.0060),\n",
    "    (\"Perf Tracking and Analytics\", 40.7128, -74.0060),\n",
    "    (\"Engineering Svcs & Oversight\", 40.7128, -74.0060),\n",
    "    (\"Architecture Svcs, OS & Anal\", 40.7128, -74.0060),\n",
    "    (\"Candidate Investigation Divisi\", 40.7128, -74.0060),\n",
    "    (\"Brooklyn Neighborhood 06\", 40.6455, -73.9455),\n",
    "    (\"Elevator Svcs & Repair (Field)\", 40.7128, -74.0060),\n",
    "    (\"Manhattan Neighborhood 07\", 40.8612, -73.9216),\n",
    "    (\"Bronx Neighborhood 07\", 40.8904, -73.8509),\n",
    "    (\"Brooklyn Neighborhood 08\", 40.6351, -73.9589),\n",
    "    (\"Violations\", 40.7128, -74.0060),\n",
    "    (\"Community Partnerships -VP\", 40.7128, -74.0060),\n",
    "    (\"560 Brook Avenue Bronx New Yor\", 40.8106, -73.8983),\n",
    "    (\"34-33 Junction Blvd Queens\", 40.7485, -73.8699),\n",
    "    (\"90-27 Parsons Boulevard\", 40.7362, -73.8206),\n",
    "    (\"34-02 Queens Boulevard Long Is\", 40.7420, -73.9369),\n",
    "    (\"Office Of The Inspector Genera\", 40.7128, -74.0060),\n",
    "    (\"Comprehensive Modernization\", 40.7128, -74.0060),\n",
    "    (\"88-26 Pitkin Avenue\", 40.6743, -73.9009),\n",
    "    (\"Polo Grounds Towers\", 40.8303, -73.9326),\n",
    "    (\"31 Chambers St., N.Y.\", 40.7129, -74.0062),\n",
    "    (\"855 Remsen., Brooklyn\", 40.6543, -73.8836),\n",
    "    (\"Office of Director\", 40.7128, -74.0060),\n",
    "    (\"1 Bay St., S.I.,Ny\", 40.6431, -74.0766),\n",
    "    (\"251 Lafayette St., N.Y.\", 40.7193, -74.0008),\n",
    "    (\"163 W 125 St, New York, Ny\", 40.8090, -73.9479),\n",
    "    (\"Arsenal 830 Fifth Ave, New Yor\", 40.7678, -73.9719),\n",
    "    (\"259 Bristol St., Brooklyn\", 40.6782, -73.9115)\n",
    "]\n",
    "\n",
    "# Verification\n",
    "print(f\"Total locations: {len(manual_address_data)}\")"
   ]
  },
  {
   "cell_type": "code",
   "execution_count": 69,
   "id": "dcd52bfbce790b90",
   "metadata": {
    "ExecuteTime": {
     "end_time": "2025-04-06T20:50:43.271834Z",
     "start_time": "2025-04-06T20:50:43.262039Z"
    }
   },
   "outputs": [
    {
     "name": "stderr",
     "output_type": "stream",
     "text": [
      "C:\\Users\\Arnold\\AppData\\Local\\Temp\\ipykernel_7592\\3469295105.py:2: DataOrientationWarning: Row orientation inferred during DataFrame construction. Explicitly specify the orientation by passing `orient=\"row\"` to silence this warning.\n",
      "  manual_address_df = pl.DataFrame(\n"
     ]
    }
   ],
   "source": [
    "\n",
    "# Create DataFrame\n",
    "manual_address_df = pl.DataFrame(\n",
    "    manual_address_data,\n",
    "    schema=[\"Work Location\", \"Latitude\", \"Longitude\"]\n",
    ")\n"
   ]
  },
  {
   "cell_type": "code",
   "execution_count": 70,
   "id": "eb816195c05ce278",
   "metadata": {
    "ExecuteTime": {
     "end_time": "2025-04-06T20:50:47.289817Z",
     "start_time": "2025-04-06T20:50:47.212623Z"
    }
   },
   "outputs": [
    {
     "data": {
      "text/html": [
       "<div><style>\n",
       ".dataframe > thead > tr,\n",
       ".dataframe > tbody > tr {\n",
       "  text-align: right;\n",
       "  white-space: pre-wrap;\n",
       "}\n",
       "</style>\n",
       "<small>shape: (305, 3)</small><table border=\"1\" class=\"dataframe\"><thead><tr><th>Work Location</th><th>Latitude</th><th>Longitude</th></tr><tr><td>str</td><td>f64</td><td>f64</td></tr></thead><tbody><tr><td>&quot;88-11 165 Street Jamaica&quot;</td><td>40.708602</td><td>-73.796897</td></tr><tr><td>&quot;58-52 Grand Ave, Maspeth Queen&quot;</td><td>40.719859</td><td>-73.91049</td></tr><tr><td>&quot;7870 State Rd 42 Grahamsville&quot;</td><td>40.7128</td><td>-74.006</td></tr><tr><td>&quot;1 Liberty Plaza NYC&quot;</td><td>40.709745</td><td>-74.010897</td></tr><tr><td>&quot;Office of the Senior Director&quot;</td><td>40.7128</td><td>-74.006</td></tr><tr><td>&hellip;</td><td>&hellip;</td><td>&hellip;</td></tr><tr><td>&quot;1 Bay St., S.I.,Ny&quot;</td><td>40.6431</td><td>-74.0766</td></tr><tr><td>&quot;251 Lafayette St., N.Y.&quot;</td><td>40.7193</td><td>-74.0008</td></tr><tr><td>&quot;163 W 125 St, New York, Ny&quot;</td><td>40.809</td><td>-73.9479</td></tr><tr><td>&quot;Arsenal 830 Fifth Ave, New Yor&quot;</td><td>40.7678</td><td>-73.9719</td></tr><tr><td>&quot;259 Bristol St., Brooklyn&quot;</td><td>40.6782</td><td>-73.9115</td></tr></tbody></table></div>"
      ],
      "text/plain": [
       "shape: (305, 3)\n",
       "┌────────────────────────────────┬───────────┬────────────┐\n",
       "│ Work Location                  ┆ Latitude  ┆ Longitude  │\n",
       "│ ---                            ┆ ---       ┆ ---        │\n",
       "│ str                            ┆ f64       ┆ f64        │\n",
       "╞════════════════════════════════╪═══════════╪════════════╡\n",
       "│ 88-11 165 Street Jamaica       ┆ 40.708602 ┆ -73.796897 │\n",
       "│ 58-52 Grand Ave, Maspeth Queen ┆ 40.719859 ┆ -73.91049  │\n",
       "│ 7870 State Rd 42 Grahamsville  ┆ 40.7128   ┆ -74.006    │\n",
       "│ 1 Liberty Plaza NYC            ┆ 40.709745 ┆ -74.010897 │\n",
       "│ Office of the Senior Director  ┆ 40.7128   ┆ -74.006    │\n",
       "│ …                              ┆ …         ┆ …          │\n",
       "│ 1 Bay St., S.I.,Ny             ┆ 40.6431   ┆ -74.0766   │\n",
       "│ 251 Lafayette St., N.Y.        ┆ 40.7193   ┆ -74.0008   │\n",
       "│ 163 W 125 St, New York, Ny     ┆ 40.809    ┆ -73.9479   │\n",
       "│ Arsenal 830 Fifth Ave, New Yor ┆ 40.7678   ┆ -73.9719   │\n",
       "│ 259 Bristol St., Brooklyn      ┆ 40.6782   ┆ -73.9115   │\n",
       "└────────────────────────────────┴───────────┴────────────┘"
      ]
     },
     "execution_count": 70,
     "metadata": {},
     "output_type": "execute_result"
    }
   ],
   "source": [
    "manual_address_df"
   ]
  },
  {
   "cell_type": "code",
   "execution_count": 61,
   "id": "aa651cea449caf5d",
   "metadata": {
    "ExecuteTime": {
     "end_time": "2025-04-06T20:18:00.333965Z",
     "start_time": "2025-04-06T20:18:00.077680Z"
    }
   },
   "outputs": [],
   "source": [
    "combined_address_df = address_df.vstack(manual_address_df)\n",
    "\n",
    "# 2. Drop rows with missing Latitude or Longitude\n",
    "combined_address_df = combined_address_df.filter(\n",
    "    pl.col(\"Latitude\").is_not_null() & pl.col(\"Longitude\").is_not_null()\n",
    ")\n",
    "\n"
   ]
  },
  {
   "cell_type": "code",
   "execution_count": 62,
   "id": "6b2b13fa63ac62bc",
   "metadata": {
    "ExecuteTime": {
     "end_time": "2025-04-06T20:18:02.066382Z",
     "start_time": "2025-04-06T20:18:02.046068Z"
    }
   },
   "outputs": [
    {
     "data": {
      "text/html": [
       "<div><style>\n",
       ".dataframe > thead > tr,\n",
       ".dataframe > tbody > tr {\n",
       "  text-align: right;\n",
       "  white-space: pre-wrap;\n",
       "}\n",
       "</style>\n",
       "<small>shape: (0, 3)</small><table border=\"1\" class=\"dataframe\"><thead><tr><th>Work Location</th><th>Latitude</th><th>Longitude</th></tr><tr><td>str</td><td>f64</td><td>f64</td></tr></thead><tbody></tbody></table></div>"
      ],
      "text/plain": [
       "shape: (0, 3)\n",
       "┌───────────────┬──────────┬───────────┐\n",
       "│ Work Location ┆ Latitude ┆ Longitude │\n",
       "│ ---           ┆ ---      ┆ ---       │\n",
       "│ str           ┆ f64      ┆ f64       │\n",
       "╞═══════════════╪══════════╪═══════════╡\n",
       "└───────────────┴──────────┴───────────┘"
      ]
     },
     "execution_count": 62,
     "metadata": {},
     "output_type": "execute_result"
    }
   ],
   "source": [
    "combined_address_df.filter(pl.col(\"Latitude\").is_null())"
   ]
  },
  {
   "cell_type": "code",
   "execution_count": 63,
   "id": "7aa446ce4b6f1efa",
   "metadata": {
    "ExecuteTime": {
     "end_time": "2025-04-06T20:18:05.947644Z",
     "start_time": "2025-04-06T20:18:05.932059Z"
    }
   },
   "outputs": [
    {
     "data": {
      "text/html": [
       "<div><style>\n",
       ".dataframe > thead > tr,\n",
       ".dataframe > tbody > tr {\n",
       "  text-align: right;\n",
       "  white-space: pre-wrap;\n",
       "}\n",
       "</style>\n",
       "<small>shape: (305, 3)</small><table border=\"1\" class=\"dataframe\"><thead><tr><th>Work Location</th><th>Latitude</th><th>Longitude</th></tr><tr><td>str</td><td>f64</td><td>f64</td></tr></thead><tbody><tr><td>&quot;88-11 165 Street Jamaica&quot;</td><td>40.708602</td><td>-73.796897</td></tr><tr><td>&quot;58-52 Grand Ave, Maspeth Queen&quot;</td><td>40.719859</td><td>-73.91049</td></tr><tr><td>&quot;7870 State Rd 42 Grahamsville,&quot;</td><td>39.448692</td><td>-86.90754</td></tr><tr><td>&quot;1 Liberty Plaza NYC&quot;</td><td>40.709745</td><td>-74.010897</td></tr><tr><td>&quot;Office of the Senior Director&quot;</td><td>32.319707</td><td>-90.235367</td></tr><tr><td>&hellip;</td><td>&hellip;</td><td>&hellip;</td></tr><tr><td>&quot;1 Bay St., S.I.,Ny&quot;</td><td>40.6431</td><td>-74.0766</td></tr><tr><td>&quot;251 Lafayette St., N.Y.&quot;</td><td>40.7193</td><td>-74.0008</td></tr><tr><td>&quot;163 W 125 St, New York, Ny&quot;</td><td>40.809</td><td>-73.9479</td></tr><tr><td>&quot;Arsenal 830 Fifth Ave, New Yor&quot;</td><td>40.7678</td><td>-73.9719</td></tr><tr><td>&quot;259 Bristol St., Brooklyn&quot;</td><td>40.6782</td><td>-73.9115</td></tr></tbody></table></div>"
      ],
      "text/plain": [
       "shape: (305, 3)\n",
       "┌────────────────────────────────┬───────────┬────────────┐\n",
       "│ Work Location                  ┆ Latitude  ┆ Longitude  │\n",
       "│ ---                            ┆ ---       ┆ ---        │\n",
       "│ str                            ┆ f64       ┆ f64        │\n",
       "╞════════════════════════════════╪═══════════╪════════════╡\n",
       "│ 88-11 165 Street Jamaica       ┆ 40.708602 ┆ -73.796897 │\n",
       "│ 58-52 Grand Ave, Maspeth Queen ┆ 40.719859 ┆ -73.91049  │\n",
       "│ 7870 State Rd 42 Grahamsville, ┆ 39.448692 ┆ -86.90754  │\n",
       "│ 1 Liberty Plaza NYC            ┆ 40.709745 ┆ -74.010897 │\n",
       "│ Office of the Senior Director  ┆ 32.319707 ┆ -90.235367 │\n",
       "│ …                              ┆ …         ┆ …          │\n",
       "│ 1 Bay St., S.I.,Ny             ┆ 40.6431   ┆ -74.0766   │\n",
       "│ 251 Lafayette St., N.Y.        ┆ 40.7193   ┆ -74.0008   │\n",
       "│ 163 W 125 St, New York, Ny     ┆ 40.809    ┆ -73.9479   │\n",
       "│ Arsenal 830 Fifth Ave, New Yor ┆ 40.7678   ┆ -73.9719   │\n",
       "│ 259 Bristol St., Brooklyn      ┆ 40.6782   ┆ -73.9115   │\n",
       "└────────────────────────────────┴───────────┴────────────┘"
      ]
     },
     "execution_count": 63,
     "metadata": {},
     "output_type": "execute_result"
    }
   ],
   "source": [
    "combined_address_df"
   ]
  },
  {
   "cell_type": "code",
   "execution_count": 17,
   "id": "5b46ffafd1433eb6",
   "metadata": {
    "ExecuteTime": {
     "end_time": "2025-04-06T19:39:48.762959Z",
     "start_time": "2025-04-06T19:39:46.836652Z"
    }
   },
   "outputs": [
    {
     "data": {
      "text/plain": [
       "['Job ID',\n",
       " 'Agency',\n",
       " '# Of Positions',\n",
       " 'Business Title',\n",
       " 'Civil Service Title',\n",
       " 'Title Classification',\n",
       " 'Title Code No',\n",
       " 'Level',\n",
       " 'Job Category',\n",
       " 'Full-Time/Part-Time indicator',\n",
       " 'Career Level',\n",
       " 'Salary Range From',\n",
       " 'Salary Range To',\n",
       " 'Salary Frequency',\n",
       " 'Work Location',\n",
       " 'Division/Work Unit',\n",
       " 'Job Description',\n",
       " 'Minimum Qual Requirements',\n",
       " 'Preferred Skills',\n",
       " 'Additional Information',\n",
       " 'To Apply',\n",
       " 'Hours/Shift',\n",
       " 'Work Location 1',\n",
       " 'Recruitment Contact',\n",
       " 'Residency Requirement',\n",
       " 'Post Until',\n",
       " 'Posting Updated',\n",
       " 'Process Date',\n",
       " 'Posting Date',\n",
       " 'Posting Type']"
      ]
     },
     "execution_count": 17,
     "metadata": {},
     "output_type": "execute_result"
    }
   ],
   "source": [
    "jobs_cleaned.columns"
   ]
  },
  {
   "cell_type": "code",
   "execution_count": 71,
   "id": "efe6401e1abd130f",
   "metadata": {
    "ExecuteTime": {
     "end_time": "2025-04-06T20:51:22.468426Z",
     "start_time": "2025-04-06T20:51:22.315552Z"
    }
   },
   "outputs": [],
   "source": [
    "## Mapping the jobs coordinates with the correct addresses\n",
    "\n",
    "final_df = jobs_cleaned.join(manual_address_df,on='Work Location',how=\"left\")"
   ]
  },
  {
   "cell_type": "code",
   "execution_count": 72,
   "id": "73870fd1188999b0",
   "metadata": {
    "ExecuteTime": {
     "end_time": "2025-04-06T20:51:25.860916Z",
     "start_time": "2025-04-06T20:51:24.499601Z"
    }
   },
   "outputs": [],
   "source": [
    "final_df.write_parquet(\"C:/Users/Arnold/OneDrive/Desktop/Information Visualization/Project/infoviz-project/data/processed/jobs_cleaned.parquet\")"
   ]
  }
 ],
 "metadata": {
  "kernelspec": {
   "display_name": "Python 3 (ipykernel)",
   "language": "python",
   "name": "python3"
  },
  "language_info": {
   "codemirror_mode": {
    "name": "ipython",
    "version": 3
   },
   "file_extension": ".py",
   "mimetype": "text/x-python",
   "name": "python",
   "nbconvert_exporter": "python",
   "pygments_lexer": "ipython3",
   "version": "3.11.3"
  }
 },
 "nbformat": 4,
 "nbformat_minor": 5
}
